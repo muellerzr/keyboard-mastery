{
 "cells": [
  {
   "cell_type": "code",
   "execution_count": 39,
   "id": "7349c249-be63-417c-92e8-6b67caf23a14",
   "metadata": {},
   "outputs": [],
   "source": [
    "code = \"\"\"print('Hello World')\"\"\""
   ]
  },
  {
   "cell_type": "code",
   "execution_count": 2,
   "id": "7631153c-454e-48c8-8f78-85f5650cc538",
   "metadata": {},
   "outputs": [],
   "source": [
    "import pandas as pd\n",
    "df = pd.read_csv(\"baseline/with_modifier.csv\")"
   ]
  },
  {
   "cell_type": "markdown",
   "id": "cfb26a6e-0475-41d6-a32e-12ef7ba209ce",
   "metadata": {},
   "source": [
    "The modifier is based on the key *position*, not the key itself. \n",
    "\n",
    "As a result we can number a keyboard based on the following format:\n",
    "![](keyboard-layout.jpg)"
   ]
  },
  {
   "cell_type": "markdown",
   "id": "836c3a39-7453-4c1e-96eb-41005a106d56",
   "metadata": {},
   "source": [
    "We just then need to map the key to the position:"
   ]
  },
  {
   "cell_type": "code",
   "execution_count": 13,
   "id": "c6e4f56d-c6d0-4cdf-8cba-9f4bff301af6",
   "metadata": {},
   "outputs": [],
   "source": [
    "key2pos = {k:i for i,k in enumerate(\"qwertyuiopasdfghjkl;zxcvbnm,.\")}"
   ]
  },
  {
   "cell_type": "code",
   "execution_count": 16,
   "id": "ae7ac54f-e3ab-4b72-8032-894a60913832",
   "metadata": {},
   "outputs": [],
   "source": [
    "df[\"Location\"] = df[\"Key\"].replace(key2pos)"
   ]
  },
  {
   "cell_type": "code",
   "execution_count": 17,
   "id": "b62925e2-b8d2-45b7-b733-5ea6ede8ef07",
   "metadata": {},
   "outputs": [
    {
     "data": {
      "text/html": [
       "<div>\n",
       "<style scoped>\n",
       "    .dataframe tbody tr th:only-of-type {\n",
       "        vertical-align: middle;\n",
       "    }\n",
       "\n",
       "    .dataframe tbody tr th {\n",
       "        vertical-align: top;\n",
       "    }\n",
       "\n",
       "    .dataframe thead th {\n",
       "        text-align: right;\n",
       "    }\n",
       "</style>\n",
       "<table border=\"1\" class=\"dataframe\">\n",
       "  <thead>\n",
       "    <tr style=\"text-align: right;\">\n",
       "      <th></th>\n",
       "      <th>Unnamed: 0</th>\n",
       "      <th>Key</th>\n",
       "      <th>Average Time (s)</th>\n",
       "      <th>Distance</th>\n",
       "      <th>Modifier</th>\n",
       "      <th>Location</th>\n",
       "    </tr>\n",
       "  </thead>\n",
       "  <tbody>\n",
       "    <tr>\n",
       "      <th>0</th>\n",
       "      <td>0</td>\n",
       "      <td>,</td>\n",
       "      <td>0.721701</td>\n",
       "      <td>1</td>\n",
       "      <td>1.443402</td>\n",
       "      <td>27</td>\n",
       "    </tr>\n",
       "    <tr>\n",
       "      <th>1</th>\n",
       "      <td>1</td>\n",
       "      <td>.</td>\n",
       "      <td>0.635377</td>\n",
       "      <td>1</td>\n",
       "      <td>1.270754</td>\n",
       "      <td>28</td>\n",
       "    </tr>\n",
       "    <tr>\n",
       "      <th>2</th>\n",
       "      <td>2</td>\n",
       "      <td>;</td>\n",
       "      <td>0.583544</td>\n",
       "      <td>0</td>\n",
       "      <td>0.583544</td>\n",
       "      <td>19</td>\n",
       "    </tr>\n",
       "    <tr>\n",
       "      <th>3</th>\n",
       "      <td>3</td>\n",
       "      <td>a</td>\n",
       "      <td>0.623853</td>\n",
       "      <td>0</td>\n",
       "      <td>0.623853</td>\n",
       "      <td>10</td>\n",
       "    </tr>\n",
       "    <tr>\n",
       "      <th>4</th>\n",
       "      <td>4</td>\n",
       "      <td>b</td>\n",
       "      <td>0.644470</td>\n",
       "      <td>2</td>\n",
       "      <td>1.933409</td>\n",
       "      <td>24</td>\n",
       "    </tr>\n",
       "  </tbody>\n",
       "</table>\n",
       "</div>"
      ],
      "text/plain": [
       "   Unnamed: 0 Key  Average Time (s)  Distance  Modifier  Location\n",
       "0           0   ,          0.721701         1  1.443402        27\n",
       "1           1   .          0.635377         1  1.270754        28\n",
       "2           2   ;          0.583544         0  0.583544        19\n",
       "3           3   a          0.623853         0  0.623853        10\n",
       "4           4   b          0.644470         2  1.933409        24"
      ]
     },
     "execution_count": 17,
     "metadata": {},
     "output_type": "execute_result"
    }
   ],
   "source": [
    "df.head()"
   ]
  },
  {
   "cell_type": "code",
   "execution_count": 18,
   "id": "ba81e8e1-e72b-40e8-9426-3b4786660161",
   "metadata": {},
   "outputs": [],
   "source": [
    "key2mod = dict(zip(df[\"Location\"], df[\"Modifier\"]))"
   ]
  },
  {
   "cell_type": "code",
   "execution_count": 27,
   "id": "6d31869e-05f5-452c-a10c-315964a03e73",
   "metadata": {},
   "outputs": [],
   "source": [
    "keys = list(df[\"Key\"].unique())"
   ]
  },
  {
   "cell_type": "code",
   "execution_count": 28,
   "id": "0ca81692-a866-49d2-859c-cd227726facf",
   "metadata": {},
   "outputs": [],
   "source": [
    "import numpy as np\n",
    "import random"
   ]
  },
  {
   "cell_type": "code",
   "execution_count": 118,
   "id": "996c5e93-0a96-411e-ad24-ad09619d7197",
   "metadata": {},
   "outputs": [],
   "source": [
    "num_weights = len(keys)\n",
    "solutions_per_population = 8\n",
    "num_solutions_mating = 4\n",
    "def init_population(population_size):\n",
    "    population = []\n",
    "    for _ in range(population_size):\n",
    "        genome = keys[:]\n",
    "        random.shuffle(genome)\n",
    "        population.append(genome)\n",
    "    return population"
   ]
  },
  {
   "cell_type": "code",
   "execution_count": 131,
   "id": "e79af921-9466-4d27-811e-17fe0c76abfa",
   "metadata": {},
   "outputs": [],
   "source": [
    "def mate(board1, board2):\n",
    "    idx = random.randint(0, 28)\n",
    "    length = random.randint(0,28)\n",
    "    child = [\"_\" for i in range(29)]\n",
    "    # Add keys from keyboard 1\n",
    "    for _ in range(length):\n",
    "        if idx > 28:\n",
    "            idx = 0\n",
    "        child[idx] = board1[idx]\n",
    "        idx += 1\n",
    "    \n",
    "    # Add remaining keys from keyboard 2\n",
    "    child_idx = idx\n",
    "    while \"_\" in child:\n",
    "        if idx > 28:\n",
    "            idx = 0\n",
    "        if child_idx > 28:\n",
    "            child_idx = 0\n",
    "        char = board2[idx]\n",
    "        if char in child:\n",
    "            idx += 1\n",
    "            continue\n",
    "        child[child_idx] = board2[idx]\n",
    "        child_idx += 1\n",
    "        idx += 1\n",
    "    \n",
    "    # 10% chance of random mutation\n",
    "    if random.random() >= 0.9:\n",
    "        p1 = random.randint(0,28)\n",
    "        p2 = random.randint(0,28)\n",
    "        allele1 = child[p1]\n",
    "        allele2 = child[p2]\n",
    "        child[p1] = allele2\n",
    "        child[p2] = allele1\n",
    "    return child"
   ]
  },
  {
   "cell_type": "code",
   "execution_count": 132,
   "id": "a23180fa-9e5b-41f4-a67a-54ec3db84172",
   "metadata": {},
   "outputs": [],
   "source": [
    "def new_generation(population, sorted_evals, p_size):\n",
    "    new_gen = []\n",
    "    sorted_pop = []\n",
    "    for idx in sorted_evals:\n",
    "        sorted_pop.append(population[idx])\n",
    "    \n",
    "    # Best 10% of layouts in this generation\n",
    "    for i in range(int(p_size*0.1)):\n",
    "        new_gen.append(sorted_pop[i])\n",
    "    \n",
    "    # Combine two from top 50% and create a new generation\n",
    "    for _ in range(int(p_size * 0.9)):\n",
    "        pop = sorted_pop[:int(p_size*.5)]\n",
    "        p1, p2 = random.choices(pop, k=2)\n",
    "        child = mate(p1,p2)\n",
    "        new_gen.append(child)\n",
    "    return new_gen"
   ]
  },
  {
   "cell_type": "code",
   "execution_count": 146,
   "id": "dcca3933-cc79-4708-8f7a-430d31e6afc8",
   "metadata": {},
   "outputs": [],
   "source": [
    "def calculate_time(s, layout, key2mod):\n",
    "    total_distance = 0\n",
    "    for char in s:\n",
    "        try:\n",
    "            total_distance += key2mod[layout.index(char)]\n",
    "        except ValueError:\n",
    "            continue\n",
    "    return total_distance"
   ]
  },
  {
   "cell_type": "code",
   "execution_count": 143,
   "id": "d77f6d9e-0335-471a-bac6-508cab562c0f",
   "metadata": {},
   "outputs": [],
   "source": [
    "with open(\"text.txt\", \"r\") as f:\n",
    "    code = f.read()"
   ]
  },
  {
   "cell_type": "code",
   "execution_count": 155,
   "id": "b5e9c924-247f-4724-9263-b564fcc28741",
   "metadata": {},
   "outputs": [],
   "source": [
    "key2mod = dict(zip(df[\"Location\"], df[\"Modifier\"]))"
   ]
  },
  {
   "cell_type": "code",
   "execution_count": 156,
   "id": "f105d22e-675f-4eff-8373-fb4c06de0988",
   "metadata": {},
   "outputs": [
    {
     "data": {
      "text/plain": [
       "14763.48642787899"
      ]
     },
     "execution_count": 156,
     "metadata": {},
     "output_type": "execute_result"
    }
   ],
   "source": [
    "# Baseline:\n",
    "calculate_time(code, \"qwertyuiopasdfghjkl;zxcvbnm,.\", key2mod)"
   ]
  },
  {
   "cell_type": "code",
   "execution_count": 158,
   "id": "427e5c4d-8830-4062-8cf1-e5514eece7be",
   "metadata": {},
   "outputs": [
    {
     "name": "stdout",
     "output_type": "stream",
     "text": [
      "Generation 0 best:\n",
      "\t13678.682420348794\n",
      "Generation 100 best:\n",
      "\t12241.141532324815\n",
      "Generation 200 best:\n",
      "\t11752.819438075083\n",
      "Generation 300 best:\n",
      "\t11348.60708928014\n",
      "Generation 400 best:\n",
      "\t11132.162210845367\n",
      "Generation 500 best:\n",
      "\t11014.809437703558\n",
      "Generation 600 best:\n",
      "\t11826.981188249049\n",
      "Generation 700 best:\n",
      "\t11770.945840310487\n",
      "Generation 800 best:\n",
      "\t11620.645924519917\n",
      "Generation 900 best:\n",
      "\t11348.353831719794\n",
      "Generation 999 best:\n",
      "\t11072.730636214774\n"
     ]
    }
   ],
   "source": [
    "populations = init_population(8)\n",
    "num_generations = 1000\n",
    "for generation in range(num_generations):\n",
    "    distances = [calculate_time(code, population, key2mod) \n",
    "             for population in populations]\n",
    "    sorted_evals = [x for _,x in sorted(zip(distances, range(len(distances) - 1)))]\n",
    "    if (generation % 100) == 0 or generation == 999:\n",
    "        print(f\"Generation {generation} best:\\n\\t{list(sorted(list(distances)))[0]}\")\n",
    "    if generation < num_generations - 1:\n",
    "        populations = new_generation(populations, sorted_evals, 8)"
   ]
  },
  {
   "cell_type": "code",
   "execution_count": 159,
   "id": "a9ad3b55-f56d-44e5-bac4-be042a3a5535",
   "metadata": {},
   "outputs": [
    {
     "data": {
      "text/plain": [
       "[2, 0, 1, 3, 4, 5]"
      ]
     },
     "execution_count": 159,
     "metadata": {},
     "output_type": "execute_result"
    }
   ],
   "source": [
    "sorted_evals"
   ]
  },
  {
   "cell_type": "code",
   "execution_count": 160,
   "id": "ab4342ad-993c-4bd3-81ca-d274a5453021",
   "metadata": {},
   "outputs": [
    {
     "data": {
      "text/plain": [
       "['z',\n",
       " 'w',\n",
       " 'x',\n",
       " 'y',\n",
       " 'h',\n",
       " 'k',\n",
       " 'p',\n",
       " 's',\n",
       " 'b',\n",
       " 'u',\n",
       " 'o',\n",
       " 'a',\n",
       " 'r',\n",
       " 'm',\n",
       " 'j',\n",
       " '.',\n",
       " 'i',\n",
       " 't',\n",
       " 'e',\n",
       " 'n',\n",
       " 'f',\n",
       " 'c',\n",
       " ',',\n",
       " 'q',\n",
       " 'v',\n",
       " 'g',\n",
       " 'l',\n",
       " ';',\n",
       " 'd']"
      ]
     },
     "execution_count": 160,
     "metadata": {},
     "output_type": "execute_result"
    }
   ],
   "source": [
    "populations[2]"
   ]
  },
  {
   "cell_type": "code",
   "execution_count": 113,
   "id": "b081e873-3dbb-4118-b4e9-4229f72721cb",
   "metadata": {},
   "outputs": [
    {
     "data": {
      "text/plain": [
       "7"
      ]
     },
     "execution_count": 113,
     "metadata": {},
     "output_type": "execute_result"
    }
   ],
   "source": [
    "len(population)"
   ]
  },
  {
   "cell_type": "code",
   "execution_count": 65,
   "id": "77f7c01f-05d9-4a9c-96fb-d42e3400eb6a",
   "metadata": {},
   "outputs": [],
   "source": [
    "distances = [calculate_time(code, population) \n",
    "             for population in populations]"
   ]
  },
  {
   "cell_type": "code",
   "execution_count": 68,
   "id": "654c67bd-89fe-40ee-b3b7-adcc5d915d5b",
   "metadata": {},
   "outputs": [
    {
     "data": {
      "text/plain": [
       "[2, 6, 3, 1, 7, 4, 5, 0]"
      ]
     },
     "execution_count": 68,
     "metadata": {},
     "output_type": "execute_result"
    }
   ],
   "source": [
    "sorted_evals = [x for _,x in sorted(zip(distances, range(len(distances))))]; sorted_evals"
   ]
  },
  {
   "cell_type": "code",
   "execution_count": 74,
   "id": "b9b3b151-6bc7-4d05-8f31-afaf86083da8",
   "metadata": {},
   "outputs": [],
   "source": [
    "new_pop = new_generation(population, sorted_evals, 8)"
   ]
  },
  {
   "cell_type": "code",
   "execution_count": 76,
   "id": "c7395d27-d306-48a3-a30f-68ee9cd571ad",
   "metadata": {},
   "outputs": [],
   "source": [
    "distances2 = [calculate_time(code, population) \n",
    "             for population in new_pop]"
   ]
  },
  {
   "cell_type": "code",
   "execution_count": 77,
   "id": "2d22502c-efe4-4297-8e74-dfb5614d3e57",
   "metadata": {},
   "outputs": [
    {
     "data": {
      "text/plain": [
       "([18.802253150939944,\n",
       "  15.373806476593023,\n",
       "  12.417484378814697,\n",
       "  15.088770198822022,\n",
       "  16.561223316192628,\n",
       "  16.897821712493897,\n",
       "  12.629731702804566,\n",
       "  16.09697675704956],\n",
       " [12.087087392807007,\n",
       "  12.915939807891846,\n",
       "  16.64198336601257,\n",
       "  12.915939807891846,\n",
       "  16.670943403244017,\n",
       "  15.500857830047606,\n",
       "  11.628025388717651])"
      ]
     },
     "execution_count": 77,
     "metadata": {},
     "output_type": "execute_result"
    }
   ],
   "source": [
    "distances, distances2"
   ]
  },
  {
   "cell_type": "code",
   "execution_count": 53,
   "id": "ed21571e-09fb-43e6-8e67-f79fd19d1fc2",
   "metadata": {},
   "outputs": [
    {
     "data": {
      "text/plain": [
       "13.265898180007936"
      ]
     },
     "execution_count": 53,
     "metadata": {},
     "output_type": "execute_result"
    }
   ],
   "source": [
    "calculate_time(code, population[2])"
   ]
  },
  {
   "cell_type": "code",
   "execution_count": null,
   "id": "a58bcac0-4cc7-4fd2-be7e-54029de542d1",
   "metadata": {},
   "outputs": [],
   "source": []
  }
 ],
 "metadata": {
  "kernelspec": {
   "display_name": "Python 3 (ipykernel)",
   "language": "python",
   "name": "python3"
  },
  "language_info": {
   "codemirror_mode": {
    "name": "ipython",
    "version": 3
   },
   "file_extension": ".py",
   "mimetype": "text/x-python",
   "name": "python",
   "nbconvert_exporter": "python",
   "pygments_lexer": "ipython3",
   "version": "3.9.13"
  }
 },
 "nbformat": 4,
 "nbformat_minor": 5
}
