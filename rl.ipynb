{
 "cells": [
  {
   "cell_type": "code",
   "execution_count": 1,
   "id": "7349c249-be63-417c-92e8-6b67caf23a14",
   "metadata": {
    "id": "7349c249-be63-417c-92e8-6b67caf23a14"
   },
   "outputs": [],
   "source": [
    "!pip install datasets >> /dev/null"
   ]
  },
  {
   "cell_type": "code",
   "execution_count": 1,
   "id": "xttYkxerB_SM",
   "metadata": {
    "colab": {
     "base_uri": "https://localhost:8080/"
    },
    "id": "xttYkxerB_SM",
    "outputId": "9cc4cf01-45e6-47ce-da74-45544223f68e"
   },
   "outputs": [
    {
     "name": "stderr",
     "output_type": "stream",
     "text": [
      "Using custom data configuration bigcode--the-stack-e4a54f956a2755d4\n"
     ]
    }
   ],
   "source": [
    "from  datasets  import  load_dataset\n",
    "\n",
    "# specific language (e.g. Dockerfiles)\n",
    "ds = load_dataset(\n",
    "    \"bigcode/the-stack\", \n",
    "    data_dir=\"data/python\", \n",
    "    split=\"train\", \n",
    "    streaming=True\n",
    ")\n",
    "\n",
    "text = ''\n",
    "for i, sample in enumerate(ds):\n",
    "    text += sample[\"content\"]\n",
    "    if i > 1000: \n",
    "        break"
   ]
  },
  {
   "cell_type": "code",
   "execution_count": 2,
   "id": "EMDFoQ3oEp2a",
   "metadata": {
    "colab": {
     "base_uri": "https://localhost:8080/"
    },
    "id": "EMDFoQ3oEp2a",
    "outputId": "8b7c689b-2e9c-4cdd-d4dd-f6fec501bbad"
   },
   "outputs": [
    {
     "data": {
      "text/plain": [
       "10182785"
      ]
     },
     "execution_count": 2,
     "metadata": {},
     "output_type": "execute_result"
    }
   ],
   "source": [
    "len(text)"
   ]
  },
  {
   "cell_type": "code",
   "execution_count": 3,
   "id": "7631153c-454e-48c8-8f78-85f5650cc538",
   "metadata": {
    "id": "7631153c-454e-48c8-8f78-85f5650cc538"
   },
   "outputs": [],
   "source": [
    "import pandas as pd\n",
    "df = pd.read_csv(\"baseline/with_modifier.csv\")"
   ]
  },
  {
   "cell_type": "markdown",
   "id": "cfb26a6e-0475-41d6-a32e-12ef7ba209ce",
   "metadata": {
    "id": "cfb26a6e-0475-41d6-a32e-12ef7ba209ce"
   },
   "source": [
    "The modifier is based on the key *position*, not the key itself. \n",
    "\n",
    "As a result we can number a keyboard based on the following format:\n",
    "![](https://github.com/muellerzr/keyboard-mastery/blob/master/keyboard-layout.jpg?raw=1)"
   ]
  },
  {
   "cell_type": "markdown",
   "id": "836c3a39-7453-4c1e-96eb-41005a106d56",
   "metadata": {
    "id": "836c3a39-7453-4c1e-96eb-41005a106d56"
   },
   "source": [
    "We just then need to map the key to the position:"
   ]
  },
  {
   "cell_type": "code",
   "execution_count": 4,
   "id": "c6e4f56d-c6d0-4cdf-8cba-9f4bff301af6",
   "metadata": {
    "id": "c6e4f56d-c6d0-4cdf-8cba-9f4bff301af6"
   },
   "outputs": [],
   "source": [
    "key2pos = {k:i for i,k in enumerate(\"qwertyuiop[]asdfghjkl;'zxcvbnm,./\")}"
   ]
  },
  {
   "cell_type": "code",
   "execution_count": 5,
   "id": "ae7ac54f-e3ab-4b72-8032-894a60913832",
   "metadata": {
    "id": "ae7ac54f-e3ab-4b72-8032-894a60913832"
   },
   "outputs": [],
   "source": [
    "df[\"Location\"] = df[\"Key\"].replace(key2pos)"
   ]
  },
  {
   "cell_type": "code",
   "execution_count": 6,
   "id": "b62925e2-b8d2-45b7-b733-5ea6ede8ef07",
   "metadata": {
    "colab": {
     "base_uri": "https://localhost:8080/",
     "height": 206
    },
    "id": "b62925e2-b8d2-45b7-b733-5ea6ede8ef07",
    "outputId": "d4b33741-3c34-4643-febb-6b4e727705e3"
   },
   "outputs": [
    {
     "data": {
      "text/html": [
       "<div>\n",
       "<style scoped>\n",
       "    .dataframe tbody tr th:only-of-type {\n",
       "        vertical-align: middle;\n",
       "    }\n",
       "\n",
       "    .dataframe tbody tr th {\n",
       "        vertical-align: top;\n",
       "    }\n",
       "\n",
       "    .dataframe thead th {\n",
       "        text-align: right;\n",
       "    }\n",
       "</style>\n",
       "<table border=\"1\" class=\"dataframe\">\n",
       "  <thead>\n",
       "    <tr style=\"text-align: right;\">\n",
       "      <th></th>\n",
       "      <th>Unnamed: 0</th>\n",
       "      <th>Key</th>\n",
       "      <th>Average Time (s)</th>\n",
       "      <th>Distance</th>\n",
       "      <th>Modifier</th>\n",
       "      <th>Location</th>\n",
       "    </tr>\n",
       "  </thead>\n",
       "  <tbody>\n",
       "    <tr>\n",
       "      <th>0</th>\n",
       "      <td>0</td>\n",
       "      <td>'</td>\n",
       "      <td>0.708456</td>\n",
       "      <td>1</td>\n",
       "      <td>0.491064</td>\n",
       "      <td>22</td>\n",
       "    </tr>\n",
       "    <tr>\n",
       "      <th>1</th>\n",
       "      <td>1</td>\n",
       "      <td>,</td>\n",
       "      <td>0.752540</td>\n",
       "      <td>1</td>\n",
       "      <td>1.348371</td>\n",
       "      <td>30</td>\n",
       "    </tr>\n",
       "    <tr>\n",
       "      <th>2</th>\n",
       "      <td>2</td>\n",
       "      <td>.</td>\n",
       "      <td>0.824321</td>\n",
       "      <td>1</td>\n",
       "      <td>1.476985</td>\n",
       "      <td>31</td>\n",
       "    </tr>\n",
       "    <tr>\n",
       "      <th>3</th>\n",
       "      <td>3</td>\n",
       "      <td>/</td>\n",
       "      <td>0.799975</td>\n",
       "      <td>1</td>\n",
       "      <td>1.433363</td>\n",
       "      <td>32</td>\n",
       "    </tr>\n",
       "    <tr>\n",
       "      <th>4</th>\n",
       "      <td>4</td>\n",
       "      <td>;</td>\n",
       "      <td>0.854735</td>\n",
       "      <td>0</td>\n",
       "      <td>0.000000</td>\n",
       "      <td>21</td>\n",
       "    </tr>\n",
       "  </tbody>\n",
       "</table>\n",
       "</div>"
      ],
      "text/plain": [
       "   Unnamed: 0 Key  Average Time (s)  Distance  Modifier  Location\n",
       "0           0   '          0.708456         1  0.491064        22\n",
       "1           1   ,          0.752540         1  1.348371        30\n",
       "2           2   .          0.824321         1  1.476985        31\n",
       "3           3   /          0.799975         1  1.433363        32\n",
       "4           4   ;          0.854735         0  0.000000        21"
      ]
     },
     "execution_count": 6,
     "metadata": {},
     "output_type": "execute_result"
    }
   ],
   "source": [
    "df.head()"
   ]
  },
  {
   "cell_type": "code",
   "execution_count": 7,
   "id": "75356c7d-02aa-437a-8da5-26d8a04327aa",
   "metadata": {},
   "outputs": [
    {
     "data": {
      "text/html": [
       "<div>\n",
       "<style scoped>\n",
       "    .dataframe tbody tr th:only-of-type {\n",
       "        vertical-align: middle;\n",
       "    }\n",
       "\n",
       "    .dataframe tbody tr th {\n",
       "        vertical-align: top;\n",
       "    }\n",
       "\n",
       "    .dataframe thead th {\n",
       "        text-align: right;\n",
       "    }\n",
       "</style>\n",
       "<table border=\"1\" class=\"dataframe\">\n",
       "  <thead>\n",
       "    <tr style=\"text-align: right;\">\n",
       "      <th></th>\n",
       "      <th>Unnamed: 0</th>\n",
       "      <th>Key</th>\n",
       "      <th>Average Time (s)</th>\n",
       "      <th>Distance</th>\n",
       "      <th>Modifier</th>\n",
       "      <th>Location</th>\n",
       "    </tr>\n",
       "  </thead>\n",
       "  <tbody>\n",
       "    <tr>\n",
       "      <th>8</th>\n",
       "      <td>8</td>\n",
       "      <td>b</td>\n",
       "      <td>0.699311</td>\n",
       "      <td>2</td>\n",
       "      <td>1.536542</td>\n",
       "      <td>27</td>\n",
       "    </tr>\n",
       "  </tbody>\n",
       "</table>\n",
       "</div>"
      ],
      "text/plain": [
       "   Unnamed: 0 Key  Average Time (s)  Distance  Modifier  Location\n",
       "8           8   b          0.699311         2  1.536542        27"
      ]
     },
     "execution_count": 7,
     "metadata": {},
     "output_type": "execute_result"
    }
   ],
   "source": [
    "df[df[\"Key\"] == \"b\"]"
   ]
  },
  {
   "cell_type": "code",
   "execution_count": 8,
   "id": "0ca81692-a866-49d2-859c-cd227726facf",
   "metadata": {
    "id": "0ca81692-a866-49d2-859c-cd227726facf"
   },
   "outputs": [],
   "source": [
    "import numpy as np\n",
    "import random"
   ]
  },
  {
   "cell_type": "code",
   "execution_count": 29,
   "id": "996c5e93-0a96-411e-ad24-ad09619d7197",
   "metadata": {
    "id": "996c5e93-0a96-411e-ad24-ad09619d7197"
   },
   "outputs": [],
   "source": [
    "solutions_per_population = 8\n",
    "num_solutions_mating = 4\n",
    "key2mod = dict(zip(df[\"Location\"], df[\"Modifier\"]))\n",
    "keys = list(df[\"Key\"].unique())\n",
    "num_weights = len(keys)\n",
    "def init_population(population_size, letters):\n",
    "    population = []\n",
    "    for _ in range(population_size):\n",
    "        genome = list(letters[:])\n",
    "        random.shuffle(genome)\n",
    "        population.append(genome)\n",
    "    return population"
   ]
  },
  {
   "cell_type": "code",
   "execution_count": 30,
   "id": "a23180fa-9e5b-41f4-a67a-54ec3db84172",
   "metadata": {
    "id": "a23180fa-9e5b-41f4-a67a-54ec3db84172"
   },
   "outputs": [],
   "source": [
    "def new_generation(population, sorted_evals, p_size):\n",
    "    new_gen = []\n",
    "    sorted_pop = []\n",
    "    for idx in sorted_evals:\n",
    "        sorted_pop.append(population[idx])\n",
    "    \n",
    "    # Best 10% of layouts in this generation\n",
    "    for i in range(int(p_size*0.1)):\n",
    "        new_gen.append(sorted_pop[i])\n",
    "    \n",
    "    # Combine two from top 50% and create a new generation\n",
    "    for _ in range(int(p_size * 0.9)):\n",
    "        pop = sorted_pop[:int(p_size*.5)]\n",
    "        p1, p2 = random.choices(pop, k=2)\n",
    "        child = mate(p1,p2)\n",
    "        new_gen.append(child)\n",
    "    return new_gen"
   ]
  },
  {
   "cell_type": "code",
   "execution_count": 31,
   "id": "dcca3933-cc79-4708-8f7a-430d31e6afc8",
   "metadata": {
    "id": "dcca3933-cc79-4708-8f7a-430d31e6afc8"
   },
   "outputs": [],
   "source": [
    "def calculate_time(s, layout, mod):\n",
    "    total_distance = 0\n",
    "    for char in s:\n",
    "        total_distance += mod[layout.index(char)]\n",
    "    return total_distance"
   ]
  },
  {
   "cell_type": "code",
   "execution_count": 32,
   "id": "91NJzt7VFUux",
   "metadata": {
    "id": "91NJzt7VFUux"
   },
   "outputs": [],
   "source": [
    "def clean_text(text, keys):\n",
    "    for initial, replacement in {\"}\":\"]\", \"{\":\"[\", \":\":\";\", '\"':\"'\", \">\":\".\", \"<\":\",\"}.items():\n",
    "        text = text.replace(initial, replacement)\n",
    "    return ''.join([t for t in text if t in keys])"
   ]
  },
  {
   "cell_type": "code",
   "execution_count": 39,
   "id": "d56a4dee-a7dc-444e-92f9-21be2efe856f",
   "metadata": {},
   "outputs": [
    {
     "data": {
      "text/plain": [
       "33"
      ]
     },
     "execution_count": 39,
     "metadata": {},
     "output_type": "execute_result"
    }
   ],
   "source": [
    "len(keys)"
   ]
  },
  {
   "cell_type": "code",
   "execution_count": 40,
   "id": "19e085c3-373f-4c50-a744-54e68f8324f3",
   "metadata": {},
   "outputs": [],
   "source": [
    "def mate(board1, board2):\n",
    "    idx = random.randint(0, 32)\n",
    "    length = random.randint(0,32)\n",
    "    child = [\"_\" for i in range(33)]\n",
    "    # Add keys from keyboard 1\n",
    "    for _ in range(length):\n",
    "        if idx > 28:\n",
    "            idx = 0\n",
    "        child[idx] = board1[idx]\n",
    "        idx += 1\n",
    "    \n",
    "    # Add remaining keys from keyboard 2\n",
    "    child_idx = idx\n",
    "    while \"_\" in child:\n",
    "        if idx > 32:\n",
    "            idx = 0\n",
    "        if child_idx > 32:\n",
    "            child_idx = 0\n",
    "        char = board2[idx]\n",
    "        if char in child:\n",
    "            idx += 1\n",
    "            continue\n",
    "        child[child_idx] = board2[idx]\n",
    "        child_idx += 1\n",
    "        idx += 1\n",
    "    \n",
    "    # 10% chance of random mutation\n",
    "    if random.random() >= 0.9:\n",
    "        p1 = random.randint(0,32)\n",
    "        p2 = random.randint(0,32)\n",
    "        allele1 = child[p1]\n",
    "        allele2 = child[p2]\n",
    "        child[p1] = allele2\n",
    "        child[p2] = allele1\n",
    "    return child"
   ]
  },
  {
   "cell_type": "code",
   "execution_count": 15,
   "id": "8u3j1Y98FY7y",
   "metadata": {
    "id": "8u3j1Y98FY7y"
   },
   "outputs": [],
   "source": [
    "cleaned = clean_text(text, keys)"
   ]
  },
  {
   "cell_type": "code",
   "execution_count": 25,
   "id": "70183111-e4c4-43df-8e31-d5e1bec3ed87",
   "metadata": {},
   "outputs": [
    {
     "data": {
      "text/plain": [
       "(6114239, 10182785)"
      ]
     },
     "execution_count": 25,
     "metadata": {},
     "output_type": "execute_result"
    }
   ],
   "source": [
    "len(cleaned), len(text)"
   ]
  },
  {
   "cell_type": "code",
   "execution_count": null,
   "id": "a9ad3b55-f56d-44e5-bac4-be042a3a5535",
   "metadata": {
    "colab": {
     "base_uri": "https://localhost:8080/"
    },
    "id": "a9ad3b55-f56d-44e5-bac4-be042a3a5535",
    "outputId": "15624d27-bcbe-447b-f68f-b4c31706078e"
   },
   "outputs": [
    {
     "name": "stdout",
     "output_type": "stream",
     "text": [
      "Generation 0 best:\n",
      "\t4407863.396626647\n",
      "Generation 50 best:\n",
      "\t3293578.9244242073\n",
      "Generation 100 best:\n",
      "\t2938604.0072293095\n",
      "Generation 150 best:\n",
      "\t2624725.1940415935\n",
      "Generation 200 best:\n",
      "\t2543517.3303936347\n",
      "Generation 250 best:\n",
      "\t2526412.4243099485\n",
      "Generation 300 best:\n",
      "\t2523277.875122347\n",
      "Generation 350 best:\n",
      "\t2523277.875122347\n"
     ]
    }
   ],
   "source": [
    "populations = init_population(10, keys)\n",
    "num_generations = 1000\n",
    "for generation in range(num_generations):\n",
    "    distances = []\n",
    "    for population in populations:\n",
    "        distances.append(\n",
    "            calculate_time(\n",
    "                cleaned, \n",
    "                population,\n",
    "                key2mod\n",
    "            )\n",
    "        )\n",
    "    sorted_evals = [x for _,x in sorted(zip(distances, range(len(distances) - 1)))]\n",
    "    if generation == num_generations - 1 or generation % 50 == 0:\n",
    "        print(f\"Generation {generation} best:\\n\\t{list(sorted(list(distances)))[0]}\")\n",
    "    if generation < num_generations - 1:\n",
    "        populations = new_generation(populations, sorted_evals, 10)"
   ]
  },
  {
   "cell_type": "code",
   "execution_count": 22,
   "id": "5c3726e9-407e-4ee3-8e5b-148e5f381421",
   "metadata": {},
   "outputs": [
    {
     "data": {
      "text/plain": [
       "[5528428.507625384,\n",
       " 5798765.715982061,\n",
       " 6233825.4043046385,\n",
       " 5528428.507625384,\n",
       " 5528428.507625384,\n",
       " 5573013.953519357]"
      ]
     },
     "execution_count": 22,
     "metadata": {},
     "output_type": "execute_result"
    }
   ],
   "source": [
    "distances"
   ]
  },
  {
   "cell_type": "code",
   "execution_count": null,
   "id": "TN7mDTmkl5qp",
   "metadata": {
    "id": "TN7mDTmkl5qp"
   },
   "outputs": [],
   "source": [
    "# 12, 11, 9"
   ]
  },
  {
   "cell_type": "code",
   "execution_count": 202,
   "id": "gIEDDceJmA86",
   "metadata": {
    "colab": {
     "base_uri": "https://localhost:8080/"
    },
    "id": "gIEDDceJmA86",
    "outputId": "486a2383-37a9-4227-95db-6c060b748e2e"
   },
   "outputs": [
    {
     "name": "stdout",
     "output_type": "stream",
     "text": [
      "['j', 'i', 'x', 'o', 'a', 'n', 'q', 'y', 'u', ',', 'c', 'k']\n",
      "['r', 'p', 'm', 'e', 'v', '.', 't', 'd', ';', 'l', 'w']\n",
      "['h', 'z', 's', \"'\", '[', 'b', 'f', ']', 'g']\n"
     ]
    }
   ],
   "source": [
    "layout = populations[0]\n",
    "print(layout[:12])\n",
    "print(layout[12:(12+11)])\n",
    "print(layout[12+11:])"
   ]
  },
  {
   "cell_type": "code",
   "execution_count": null,
   "id": "a58bcac0-4cc7-4fd2-be7e-54029de542d1",
   "metadata": {
    "id": "a58bcac0-4cc7-4fd2-be7e-54029de542d1"
   },
   "outputs": [],
   "source": []
  }
 ],
 "metadata": {
  "colab": {
   "machine_shape": "hm",
   "provenance": []
  },
  "gpuClass": "standard",
  "kernelspec": {
   "display_name": "Python 3 (ipykernel)",
   "language": "python",
   "name": "python3"
  },
  "language_info": {
   "codemirror_mode": {
    "name": "ipython",
    "version": 3
   },
   "file_extension": ".py",
   "mimetype": "text/x-python",
   "name": "python",
   "nbconvert_exporter": "python",
   "pygments_lexer": "ipython3",
   "version": "3.8.10"
  },
  "widgets": {
   "application/vnd.jupyter.widget-state+json": {
    "0e432c505d5d4f5d919973b4f36de957": {
     "model_module": "@jupyter-widgets/base",
     "model_module_version": "1.2.0",
     "model_name": "LayoutModel",
     "state": {
      "_model_module": "@jupyter-widgets/base",
      "_model_module_version": "1.2.0",
      "_model_name": "LayoutModel",
      "_view_count": null,
      "_view_module": "@jupyter-widgets/base",
      "_view_module_version": "1.2.0",
      "_view_name": "LayoutView",
      "align_content": null,
      "align_items": null,
      "align_self": null,
      "border": null,
      "bottom": null,
      "display": null,
      "flex": null,
      "flex_flow": null,
      "grid_area": null,
      "grid_auto_columns": null,
      "grid_auto_flow": null,
      "grid_auto_rows": null,
      "grid_column": null,
      "grid_gap": null,
      "grid_row": null,
      "grid_template_areas": null,
      "grid_template_columns": null,
      "grid_template_rows": null,
      "height": null,
      "justify_content": null,
      "justify_items": null,
      "left": null,
      "margin": null,
      "max_height": null,
      "max_width": null,
      "min_height": null,
      "min_width": null,
      "object_fit": null,
      "object_position": null,
      "order": null,
      "overflow": null,
      "overflow_x": null,
      "overflow_y": null,
      "padding": null,
      "right": null,
      "top": null,
      "visibility": null,
      "width": null
     }
    },
    "1b43c9e49e794ea09d6c5b23d173d487": {
     "model_module": "@jupyter-widgets/controls",
     "model_module_version": "1.5.0",
     "model_name": "DescriptionStyleModel",
     "state": {
      "_model_module": "@jupyter-widgets/controls",
      "_model_module_version": "1.5.0",
      "_model_name": "DescriptionStyleModel",
      "_view_count": null,
      "_view_module": "@jupyter-widgets/base",
      "_view_module_version": "1.2.0",
      "_view_name": "StyleView",
      "description_width": ""
     }
    },
    "1e3ad0f3bdc647eca5c62bc70347df24": {
     "model_module": "@jupyter-widgets/controls",
     "model_module_version": "1.5.0",
     "model_name": "DescriptionStyleModel",
     "state": {
      "_model_module": "@jupyter-widgets/controls",
      "_model_module_version": "1.5.0",
      "_model_name": "DescriptionStyleModel",
      "_view_count": null,
      "_view_module": "@jupyter-widgets/base",
      "_view_module_version": "1.2.0",
      "_view_name": "StyleView",
      "description_width": ""
     }
    },
    "319ba07de918431daa24c357bb16aaad": {
     "model_module": "@jupyter-widgets/controls",
     "model_module_version": "1.5.0",
     "model_name": "ButtonStyleModel",
     "state": {
      "_model_module": "@jupyter-widgets/controls",
      "_model_module_version": "1.5.0",
      "_model_name": "ButtonStyleModel",
      "_view_count": null,
      "_view_module": "@jupyter-widgets/base",
      "_view_module_version": "1.2.0",
      "_view_name": "StyleView",
      "button_color": null,
      "font_weight": ""
     }
    },
    "44ff8b3f33e74c9d983f850b205e6d8b": {
     "model_module": "@jupyter-widgets/controls",
     "model_module_version": "1.5.0",
     "model_name": "DescriptionStyleModel",
     "state": {
      "_model_module": "@jupyter-widgets/controls",
      "_model_module_version": "1.5.0",
      "_model_name": "DescriptionStyleModel",
      "_view_count": null,
      "_view_module": "@jupyter-widgets/base",
      "_view_module_version": "1.2.0",
      "_view_name": "StyleView",
      "description_width": ""
     }
    },
    "6861be82746245bfb0c035e524523af9": {
     "model_module": "@jupyter-widgets/base",
     "model_module_version": "1.2.0",
     "model_name": "LayoutModel",
     "state": {
      "_model_module": "@jupyter-widgets/base",
      "_model_module_version": "1.2.0",
      "_model_name": "LayoutModel",
      "_view_count": null,
      "_view_module": "@jupyter-widgets/base",
      "_view_module_version": "1.2.0",
      "_view_name": "LayoutView",
      "align_content": null,
      "align_items": null,
      "align_self": null,
      "border": null,
      "bottom": null,
      "display": null,
      "flex": null,
      "flex_flow": null,
      "grid_area": null,
      "grid_auto_columns": null,
      "grid_auto_flow": null,
      "grid_auto_rows": null,
      "grid_column": null,
      "grid_gap": null,
      "grid_row": null,
      "grid_template_areas": null,
      "grid_template_columns": null,
      "grid_template_rows": null,
      "height": null,
      "justify_content": null,
      "justify_items": null,
      "left": null,
      "margin": null,
      "max_height": null,
      "max_width": null,
      "min_height": null,
      "min_width": null,
      "object_fit": null,
      "object_position": null,
      "order": null,
      "overflow": null,
      "overflow_x": null,
      "overflow_y": null,
      "padding": null,
      "right": null,
      "top": null,
      "visibility": null,
      "width": null
     }
    },
    "7716ac2e1fae472d91787c182a5f25df": {
     "model_module": "@jupyter-widgets/controls",
     "model_module_version": "1.5.0",
     "model_name": "HTMLModel",
     "state": {
      "_dom_classes": [],
      "_model_module": "@jupyter-widgets/controls",
      "_model_module_version": "1.5.0",
      "_model_name": "HTMLModel",
      "_view_count": null,
      "_view_module": "@jupyter-widgets/controls",
      "_view_module_version": "1.5.0",
      "_view_name": "HTMLView",
      "description": "",
      "description_tooltip": null,
      "layout": "IPY_MODEL_d88bc79698a84187968601dbdd38d168",
      "placeholder": "​",
      "style": "IPY_MODEL_44ff8b3f33e74c9d983f850b205e6d8b",
      "value": "\n<b>Pro Tip:</b> If you don't already have one, you can create a dedicated\n'notebooks' token with 'write' access, that you can then easily reuse for all\nnotebooks. </center>"
     }
    },
    "ae67041d61de435781dcc4044b099d02": {
     "model_module": "@jupyter-widgets/controls",
     "model_module_version": "1.5.0",
     "model_name": "DescriptionStyleModel",
     "state": {
      "_model_module": "@jupyter-widgets/controls",
      "_model_module_version": "1.5.0",
      "_model_name": "DescriptionStyleModel",
      "_view_count": null,
      "_view_module": "@jupyter-widgets/base",
      "_view_module_version": "1.2.0",
      "_view_name": "StyleView",
      "description_width": ""
     }
    },
    "b968898d9ac24ae7988d6b74032361b4": {
     "model_module": "@jupyter-widgets/base",
     "model_module_version": "1.2.0",
     "model_name": "LayoutModel",
     "state": {
      "_model_module": "@jupyter-widgets/base",
      "_model_module_version": "1.2.0",
      "_model_name": "LayoutModel",
      "_view_count": null,
      "_view_module": "@jupyter-widgets/base",
      "_view_module_version": "1.2.0",
      "_view_name": "LayoutView",
      "align_content": null,
      "align_items": null,
      "align_self": null,
      "border": null,
      "bottom": null,
      "display": null,
      "flex": null,
      "flex_flow": null,
      "grid_area": null,
      "grid_auto_columns": null,
      "grid_auto_flow": null,
      "grid_auto_rows": null,
      "grid_column": null,
      "grid_gap": null,
      "grid_row": null,
      "grid_template_areas": null,
      "grid_template_columns": null,
      "grid_template_rows": null,
      "height": null,
      "justify_content": null,
      "justify_items": null,
      "left": null,
      "margin": null,
      "max_height": null,
      "max_width": null,
      "min_height": null,
      "min_width": null,
      "object_fit": null,
      "object_position": null,
      "order": null,
      "overflow": null,
      "overflow_x": null,
      "overflow_y": null,
      "padding": null,
      "right": null,
      "top": null,
      "visibility": null,
      "width": null
     }
    },
    "bac864666e604516974904b4326605ee": {
     "model_module": "@jupyter-widgets/controls",
     "model_module_version": "1.5.0",
     "model_name": "VBoxModel",
     "state": {
      "_dom_classes": [],
      "_model_module": "@jupyter-widgets/controls",
      "_model_module_version": "1.5.0",
      "_model_name": "VBoxModel",
      "_view_count": null,
      "_view_module": "@jupyter-widgets/controls",
      "_view_module_version": "1.5.0",
      "_view_name": "VBoxView",
      "box_style": "",
      "children": [
       "IPY_MODEL_daf3af72f05a4d63bc535e16ad874629",
       "IPY_MODEL_c82155dda22b4a4da30202cec090f018",
       "IPY_MODEL_f12f0e0f7abd4503adcf64362ed17966",
       "IPY_MODEL_ecb437a526214ecd914dcb39f40551b1",
       "IPY_MODEL_7716ac2e1fae472d91787c182a5f25df"
      ],
      "layout": "IPY_MODEL_be82ac0e01bf4708a6cb11c85acfcf92"
     }
    },
    "be82ac0e01bf4708a6cb11c85acfcf92": {
     "model_module": "@jupyter-widgets/base",
     "model_module_version": "1.2.0",
     "model_name": "LayoutModel",
     "state": {
      "_model_module": "@jupyter-widgets/base",
      "_model_module_version": "1.2.0",
      "_model_name": "LayoutModel",
      "_view_count": null,
      "_view_module": "@jupyter-widgets/base",
      "_view_module_version": "1.2.0",
      "_view_name": "LayoutView",
      "align_content": null,
      "align_items": "center",
      "align_self": null,
      "border": null,
      "bottom": null,
      "display": "flex",
      "flex": null,
      "flex_flow": "column",
      "grid_area": null,
      "grid_auto_columns": null,
      "grid_auto_flow": null,
      "grid_auto_rows": null,
      "grid_column": null,
      "grid_gap": null,
      "grid_row": null,
      "grid_template_areas": null,
      "grid_template_columns": null,
      "grid_template_rows": null,
      "height": null,
      "justify_content": null,
      "justify_items": null,
      "left": null,
      "margin": null,
      "max_height": null,
      "max_width": null,
      "min_height": null,
      "min_width": null,
      "object_fit": null,
      "object_position": null,
      "order": null,
      "overflow": null,
      "overflow_x": null,
      "overflow_y": null,
      "padding": null,
      "right": null,
      "top": null,
      "visibility": null,
      "width": "50%"
     }
    },
    "c82155dda22b4a4da30202cec090f018": {
     "model_module": "@jupyter-widgets/controls",
     "model_module_version": "1.5.0",
     "model_name": "PasswordModel",
     "state": {
      "_dom_classes": [],
      "_model_module": "@jupyter-widgets/controls",
      "_model_module_version": "1.5.0",
      "_model_name": "PasswordModel",
      "_view_count": null,
      "_view_module": "@jupyter-widgets/controls",
      "_view_module_version": "1.5.0",
      "_view_name": "PasswordView",
      "continuous_update": true,
      "description": "Token:",
      "description_tooltip": null,
      "disabled": false,
      "layout": "IPY_MODEL_0e432c505d5d4f5d919973b4f36de957",
      "placeholder": "​",
      "style": "IPY_MODEL_1b43c9e49e794ea09d6c5b23d173d487",
      "value": ""
     }
    },
    "d88bc79698a84187968601dbdd38d168": {
     "model_module": "@jupyter-widgets/base",
     "model_module_version": "1.2.0",
     "model_name": "LayoutModel",
     "state": {
      "_model_module": "@jupyter-widgets/base",
      "_model_module_version": "1.2.0",
      "_model_name": "LayoutModel",
      "_view_count": null,
      "_view_module": "@jupyter-widgets/base",
      "_view_module_version": "1.2.0",
      "_view_name": "LayoutView",
      "align_content": null,
      "align_items": null,
      "align_self": null,
      "border": null,
      "bottom": null,
      "display": null,
      "flex": null,
      "flex_flow": null,
      "grid_area": null,
      "grid_auto_columns": null,
      "grid_auto_flow": null,
      "grid_auto_rows": null,
      "grid_column": null,
      "grid_gap": null,
      "grid_row": null,
      "grid_template_areas": null,
      "grid_template_columns": null,
      "grid_template_rows": null,
      "height": null,
      "justify_content": null,
      "justify_items": null,
      "left": null,
      "margin": null,
      "max_height": null,
      "max_width": null,
      "min_height": null,
      "min_width": null,
      "object_fit": null,
      "object_position": null,
      "order": null,
      "overflow": null,
      "overflow_x": null,
      "overflow_y": null,
      "padding": null,
      "right": null,
      "top": null,
      "visibility": null,
      "width": null
     }
    },
    "daf3af72f05a4d63bc535e16ad874629": {
     "model_module": "@jupyter-widgets/controls",
     "model_module_version": "1.5.0",
     "model_name": "HTMLModel",
     "state": {
      "_dom_classes": [],
      "_model_module": "@jupyter-widgets/controls",
      "_model_module_version": "1.5.0",
      "_model_name": "HTMLModel",
      "_view_count": null,
      "_view_module": "@jupyter-widgets/controls",
      "_view_module_version": "1.5.0",
      "_view_name": "HTMLView",
      "description": "",
      "description_tooltip": null,
      "layout": "IPY_MODEL_e09b66e814774e1ea414af2c9af4f87d",
      "placeholder": "​",
      "style": "IPY_MODEL_ae67041d61de435781dcc4044b099d02",
      "value": "<center> <img\nsrc=https://huggingface.co/front/assets/huggingface_logo-noborder.svg\nalt='Hugging Face'> <br> Copy a token from <a\nhref=\"https://huggingface.co/settings/tokens\" target=\"_blank\">your Hugging Face\ntokens page</a> and paste it below. <br> Immediately click login after copying\nyour token or it might be stored in plain text in this notebook file. </center>"
     }
    },
    "e09b66e814774e1ea414af2c9af4f87d": {
     "model_module": "@jupyter-widgets/base",
     "model_module_version": "1.2.0",
     "model_name": "LayoutModel",
     "state": {
      "_model_module": "@jupyter-widgets/base",
      "_model_module_version": "1.2.0",
      "_model_name": "LayoutModel",
      "_view_count": null,
      "_view_module": "@jupyter-widgets/base",
      "_view_module_version": "1.2.0",
      "_view_name": "LayoutView",
      "align_content": null,
      "align_items": null,
      "align_self": null,
      "border": null,
      "bottom": null,
      "display": null,
      "flex": null,
      "flex_flow": null,
      "grid_area": null,
      "grid_auto_columns": null,
      "grid_auto_flow": null,
      "grid_auto_rows": null,
      "grid_column": null,
      "grid_gap": null,
      "grid_row": null,
      "grid_template_areas": null,
      "grid_template_columns": null,
      "grid_template_rows": null,
      "height": null,
      "justify_content": null,
      "justify_items": null,
      "left": null,
      "margin": null,
      "max_height": null,
      "max_width": null,
      "min_height": null,
      "min_width": null,
      "object_fit": null,
      "object_position": null,
      "order": null,
      "overflow": null,
      "overflow_x": null,
      "overflow_y": null,
      "padding": null,
      "right": null,
      "top": null,
      "visibility": null,
      "width": null
     }
    },
    "ecb437a526214ecd914dcb39f40551b1": {
     "model_module": "@jupyter-widgets/controls",
     "model_module_version": "1.5.0",
     "model_name": "ButtonModel",
     "state": {
      "_dom_classes": [],
      "_model_module": "@jupyter-widgets/controls",
      "_model_module_version": "1.5.0",
      "_model_name": "ButtonModel",
      "_view_count": null,
      "_view_module": "@jupyter-widgets/controls",
      "_view_module_version": "1.5.0",
      "_view_name": "ButtonView",
      "button_style": "",
      "description": "Login",
      "disabled": false,
      "icon": "",
      "layout": "IPY_MODEL_b968898d9ac24ae7988d6b74032361b4",
      "style": "IPY_MODEL_319ba07de918431daa24c357bb16aaad",
      "tooltip": ""
     }
    },
    "f12f0e0f7abd4503adcf64362ed17966": {
     "model_module": "@jupyter-widgets/controls",
     "model_module_version": "1.5.0",
     "model_name": "CheckboxModel",
     "state": {
      "_dom_classes": [],
      "_model_module": "@jupyter-widgets/controls",
      "_model_module_version": "1.5.0",
      "_model_name": "CheckboxModel",
      "_view_count": null,
      "_view_module": "@jupyter-widgets/controls",
      "_view_module_version": "1.5.0",
      "_view_name": "CheckboxView",
      "description": "Add token as git credential?",
      "description_tooltip": null,
      "disabled": false,
      "indent": true,
      "layout": "IPY_MODEL_6861be82746245bfb0c035e524523af9",
      "style": "IPY_MODEL_1e3ad0f3bdc647eca5c62bc70347df24",
      "value": true
     }
    }
   }
  }
 },
 "nbformat": 4,
 "nbformat_minor": 5
}
