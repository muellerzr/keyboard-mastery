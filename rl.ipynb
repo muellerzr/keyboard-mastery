{
  "cells": [
    {
      "cell_type": "code",
      "execution_count": 1,
      "id": "7349c249-be63-417c-92e8-6b67caf23a14",
      "metadata": {
        "id": "7349c249-be63-417c-92e8-6b67caf23a14"
      },
      "outputs": [],
      "source": [
        "!pip install datasets >> /dev/null"
      ]
    },
    {
      "cell_type": "code",
      "source": [
        "from huggingface_hub import notebook_login\n",
        "\n",
        "notebook_login()"
      ],
      "metadata": {
        "colab": {
          "base_uri": "https://localhost:8080/",
          "height": 331,
          "referenced_widgets": [
            "bac864666e604516974904b4326605ee",
            "daf3af72f05a4d63bc535e16ad874629",
            "c82155dda22b4a4da30202cec090f018",
            "f12f0e0f7abd4503adcf64362ed17966",
            "ecb437a526214ecd914dcb39f40551b1",
            "7716ac2e1fae472d91787c182a5f25df",
            "be82ac0e01bf4708a6cb11c85acfcf92",
            "e09b66e814774e1ea414af2c9af4f87d",
            "ae67041d61de435781dcc4044b099d02",
            "0e432c505d5d4f5d919973b4f36de957",
            "1b43c9e49e794ea09d6c5b23d173d487",
            "6861be82746245bfb0c035e524523af9",
            "1e3ad0f3bdc647eca5c62bc70347df24",
            "b968898d9ac24ae7988d6b74032361b4",
            "319ba07de918431daa24c357bb16aaad",
            "d88bc79698a84187968601dbdd38d168",
            "44ff8b3f33e74c9d983f850b205e6d8b"
          ]
        },
        "id": "3EWg9Am2C9Tq",
        "outputId": "d79765db-c1b2-41a6-9760-c9298ecedd05"
      },
      "id": "3EWg9Am2C9Tq",
      "execution_count": 3,
      "outputs": [
        {
          "output_type": "stream",
          "name": "stdout",
          "text": [
            "Token is valid.\n",
            "Your token has been saved in your configured git credential helpers (store).\n",
            "Your token has been saved to /root/.huggingface/token\n",
            "Login successful\n"
          ]
        }
      ]
    },
    {
      "cell_type": "code",
      "source": [
        "from  datasets  import  load_dataset\n",
        "\n",
        "# specific language (e.g. Dockerfiles)\n",
        "ds = load_dataset(\n",
        "    \"bigcode/the-stack\", \n",
        "    data_dir=\"data/python\", \n",
        "    split=\"train\", \n",
        "    streaming=True\n",
        ")\n",
        "\n",
        "text = ''\n",
        "for i, sample in enumerate(ds):\n",
        "    text += sample[\"content\"]\n",
        "    if i > 1000: \n",
        "        break"
      ],
      "metadata": {
        "colab": {
          "base_uri": "https://localhost:8080/"
        },
        "id": "xttYkxerB_SM",
        "outputId": "9cc4cf01-45e6-47ce-da74-45544223f68e"
      },
      "id": "xttYkxerB_SM",
      "execution_count": 35,
      "outputs": [
        {
          "output_type": "stream",
          "name": "stderr",
          "text": [
            "WARNING:datasets.builder:Using custom data configuration bigcode--the-stack-e4a54f956a2755d4\n"
          ]
        }
      ]
    },
    {
      "cell_type": "code",
      "source": [
        "len(text)"
      ],
      "metadata": {
        "colab": {
          "base_uri": "https://localhost:8080/"
        },
        "id": "EMDFoQ3oEp2a",
        "outputId": "8b7c689b-2e9c-4cdd-d4dd-f6fec501bbad"
      },
      "id": "EMDFoQ3oEp2a",
      "execution_count": 36,
      "outputs": [
        {
          "output_type": "execute_result",
          "data": {
            "text/plain": [
              "10182785"
            ]
          },
          "metadata": {},
          "execution_count": 36
        }
      ]
    },
    {
      "cell_type": "code",
      "execution_count": 14,
      "id": "7631153c-454e-48c8-8f78-85f5650cc538",
      "metadata": {
        "id": "7631153c-454e-48c8-8f78-85f5650cc538"
      },
      "outputs": [],
      "source": [
        "import pandas as pd\n",
        "df = pd.read_csv(\"https://raw.githubusercontent.com/muellerzr/keyboard-mastery/master/baseline/with_modifier.csv\")"
      ]
    },
    {
      "cell_type": "markdown",
      "id": "cfb26a6e-0475-41d6-a32e-12ef7ba209ce",
      "metadata": {
        "id": "cfb26a6e-0475-41d6-a32e-12ef7ba209ce"
      },
      "source": [
        "The modifier is based on the key *position*, not the key itself. \n",
        "\n",
        "As a result we can number a keyboard based on the following format:\n",
        "![](https://github.com/muellerzr/keyboard-mastery/blob/master/keyboard-layout.jpg?raw=1)"
      ]
    },
    {
      "cell_type": "markdown",
      "id": "836c3a39-7453-4c1e-96eb-41005a106d56",
      "metadata": {
        "id": "836c3a39-7453-4c1e-96eb-41005a106d56"
      },
      "source": [
        "We just then need to map the key to the position:"
      ]
    },
    {
      "cell_type": "code",
      "execution_count": 167,
      "id": "c6e4f56d-c6d0-4cdf-8cba-9f4bff301af6",
      "metadata": {
        "id": "c6e4f56d-c6d0-4cdf-8cba-9f4bff301af6"
      },
      "outputs": [],
      "source": [
        "key2pos = {k:i for i,k in enumerate(\"qwertyuiop[]asdfghjkl;'zxcvbnm,.\")}"
      ]
    },
    {
      "cell_type": "code",
      "execution_count": 168,
      "id": "ae7ac54f-e3ab-4b72-8032-894a60913832",
      "metadata": {
        "id": "ae7ac54f-e3ab-4b72-8032-894a60913832"
      },
      "outputs": [],
      "source": [
        "df[\"Location\"] = df[\"Key\"].replace(key2pos)"
      ]
    },
    {
      "cell_type": "code",
      "source": [
        "df.loc[len(df.index)] = [1, \"[\", .635, 1, 1.45, key2pos[\"[\"]]\n",
        "df.loc[len(df.index)] = [1, \"]\", .72, 2, 2.165, key2pos[\"]\"]]\n",
        "df.loc[len(df.index)] = [1, \"'\", .62, 1, 1.25, key2pos[\"'\"]]"
      ],
      "metadata": {
        "id": "poPPZihUeGak"
      },
      "id": "poPPZihUeGak",
      "execution_count": 170,
      "outputs": []
    },
    {
      "cell_type": "code",
      "execution_count": 172,
      "id": "b62925e2-b8d2-45b7-b733-5ea6ede8ef07",
      "metadata": {
        "colab": {
          "base_uri": "https://localhost:8080/",
          "height": 206
        },
        "id": "b62925e2-b8d2-45b7-b733-5ea6ede8ef07",
        "outputId": "d4b33741-3c34-4643-febb-6b4e727705e3"
      },
      "outputs": [
        {
          "output_type": "execute_result",
          "data": {
            "text/plain": [
              "   Unnamed: 0 Key  Average Time (s)  Distance  Modifier  Location\n",
              "0           0   ,          0.721701         1  1.443402        30\n",
              "1           1   .          0.635377         1  1.270754        31\n",
              "2           2   ;          0.583544         0  0.583544        21\n",
              "3           3   a          0.623853         0  0.623853        12\n",
              "4           4   b          0.644470         2  1.933409        27"
            ],
            "text/html": [
              "\n",
              "  <div id=\"df-680e48a3-c325-4f5d-b24d-5095a73967b9\">\n",
              "    <div class=\"colab-df-container\">\n",
              "      <div>\n",
              "<style scoped>\n",
              "    .dataframe tbody tr th:only-of-type {\n",
              "        vertical-align: middle;\n",
              "    }\n",
              "\n",
              "    .dataframe tbody tr th {\n",
              "        vertical-align: top;\n",
              "    }\n",
              "\n",
              "    .dataframe thead th {\n",
              "        text-align: right;\n",
              "    }\n",
              "</style>\n",
              "<table border=\"1\" class=\"dataframe\">\n",
              "  <thead>\n",
              "    <tr style=\"text-align: right;\">\n",
              "      <th></th>\n",
              "      <th>Unnamed: 0</th>\n",
              "      <th>Key</th>\n",
              "      <th>Average Time (s)</th>\n",
              "      <th>Distance</th>\n",
              "      <th>Modifier</th>\n",
              "      <th>Location</th>\n",
              "    </tr>\n",
              "  </thead>\n",
              "  <tbody>\n",
              "    <tr>\n",
              "      <th>0</th>\n",
              "      <td>0</td>\n",
              "      <td>,</td>\n",
              "      <td>0.721701</td>\n",
              "      <td>1</td>\n",
              "      <td>1.443402</td>\n",
              "      <td>30</td>\n",
              "    </tr>\n",
              "    <tr>\n",
              "      <th>1</th>\n",
              "      <td>1</td>\n",
              "      <td>.</td>\n",
              "      <td>0.635377</td>\n",
              "      <td>1</td>\n",
              "      <td>1.270754</td>\n",
              "      <td>31</td>\n",
              "    </tr>\n",
              "    <tr>\n",
              "      <th>2</th>\n",
              "      <td>2</td>\n",
              "      <td>;</td>\n",
              "      <td>0.583544</td>\n",
              "      <td>0</td>\n",
              "      <td>0.583544</td>\n",
              "      <td>21</td>\n",
              "    </tr>\n",
              "    <tr>\n",
              "      <th>3</th>\n",
              "      <td>3</td>\n",
              "      <td>a</td>\n",
              "      <td>0.623853</td>\n",
              "      <td>0</td>\n",
              "      <td>0.623853</td>\n",
              "      <td>12</td>\n",
              "    </tr>\n",
              "    <tr>\n",
              "      <th>4</th>\n",
              "      <td>4</td>\n",
              "      <td>b</td>\n",
              "      <td>0.644470</td>\n",
              "      <td>2</td>\n",
              "      <td>1.933409</td>\n",
              "      <td>27</td>\n",
              "    </tr>\n",
              "  </tbody>\n",
              "</table>\n",
              "</div>\n",
              "      <button class=\"colab-df-convert\" onclick=\"convertToInteractive('df-680e48a3-c325-4f5d-b24d-5095a73967b9')\"\n",
              "              title=\"Convert this dataframe to an interactive table.\"\n",
              "              style=\"display:none;\">\n",
              "        \n",
              "  <svg xmlns=\"http://www.w3.org/2000/svg\" height=\"24px\"viewBox=\"0 0 24 24\"\n",
              "       width=\"24px\">\n",
              "    <path d=\"M0 0h24v24H0V0z\" fill=\"none\"/>\n",
              "    <path d=\"M18.56 5.44l.94 2.06.94-2.06 2.06-.94-2.06-.94-.94-2.06-.94 2.06-2.06.94zm-11 1L8.5 8.5l.94-2.06 2.06-.94-2.06-.94L8.5 2.5l-.94 2.06-2.06.94zm10 10l.94 2.06.94-2.06 2.06-.94-2.06-.94-.94-2.06-.94 2.06-2.06.94z\"/><path d=\"M17.41 7.96l-1.37-1.37c-.4-.4-.92-.59-1.43-.59-.52 0-1.04.2-1.43.59L10.3 9.45l-7.72 7.72c-.78.78-.78 2.05 0 2.83L4 21.41c.39.39.9.59 1.41.59.51 0 1.02-.2 1.41-.59l7.78-7.78 2.81-2.81c.8-.78.8-2.07 0-2.86zM5.41 20L4 18.59l7.72-7.72 1.47 1.35L5.41 20z\"/>\n",
              "  </svg>\n",
              "      </button>\n",
              "      \n",
              "  <style>\n",
              "    .colab-df-container {\n",
              "      display:flex;\n",
              "      flex-wrap:wrap;\n",
              "      gap: 12px;\n",
              "    }\n",
              "\n",
              "    .colab-df-convert {\n",
              "      background-color: #E8F0FE;\n",
              "      border: none;\n",
              "      border-radius: 50%;\n",
              "      cursor: pointer;\n",
              "      display: none;\n",
              "      fill: #1967D2;\n",
              "      height: 32px;\n",
              "      padding: 0 0 0 0;\n",
              "      width: 32px;\n",
              "    }\n",
              "\n",
              "    .colab-df-convert:hover {\n",
              "      background-color: #E2EBFA;\n",
              "      box-shadow: 0px 1px 2px rgba(60, 64, 67, 0.3), 0px 1px 3px 1px rgba(60, 64, 67, 0.15);\n",
              "      fill: #174EA6;\n",
              "    }\n",
              "\n",
              "    [theme=dark] .colab-df-convert {\n",
              "      background-color: #3B4455;\n",
              "      fill: #D2E3FC;\n",
              "    }\n",
              "\n",
              "    [theme=dark] .colab-df-convert:hover {\n",
              "      background-color: #434B5C;\n",
              "      box-shadow: 0px 1px 3px 1px rgba(0, 0, 0, 0.15);\n",
              "      filter: drop-shadow(0px 1px 2px rgba(0, 0, 0, 0.3));\n",
              "      fill: #FFFFFF;\n",
              "    }\n",
              "  </style>\n",
              "\n",
              "      <script>\n",
              "        const buttonEl =\n",
              "          document.querySelector('#df-680e48a3-c325-4f5d-b24d-5095a73967b9 button.colab-df-convert');\n",
              "        buttonEl.style.display =\n",
              "          google.colab.kernel.accessAllowed ? 'block' : 'none';\n",
              "\n",
              "        async function convertToInteractive(key) {\n",
              "          const element = document.querySelector('#df-680e48a3-c325-4f5d-b24d-5095a73967b9');\n",
              "          const dataTable =\n",
              "            await google.colab.kernel.invokeFunction('convertToInteractive',\n",
              "                                                     [key], {});\n",
              "          if (!dataTable) return;\n",
              "\n",
              "          const docLinkHtml = 'Like what you see? Visit the ' +\n",
              "            '<a target=\"_blank\" href=https://colab.research.google.com/notebooks/data_table.ipynb>data table notebook</a>'\n",
              "            + ' to learn more about interactive tables.';\n",
              "          element.innerHTML = '';\n",
              "          dataTable['output_type'] = 'display_data';\n",
              "          await google.colab.output.renderOutput(dataTable, element);\n",
              "          const docLink = document.createElement('div');\n",
              "          docLink.innerHTML = docLinkHtml;\n",
              "          element.appendChild(docLink);\n",
              "        }\n",
              "      </script>\n",
              "    </div>\n",
              "  </div>\n",
              "  "
            ]
          },
          "metadata": {},
          "execution_count": 172
        }
      ],
      "source": [
        "df.head()"
      ]
    },
    {
      "cell_type": "code",
      "execution_count": 173,
      "id": "ba81e8e1-e72b-40e8-9426-3b4786660161",
      "metadata": {
        "id": "ba81e8e1-e72b-40e8-9426-3b4786660161"
      },
      "outputs": [],
      "source": [
        "key2mod = dict(zip(df[\"Location\"], df[\"Modifier\"]))"
      ]
    },
    {
      "cell_type": "code",
      "execution_count": 174,
      "id": "6d31869e-05f5-452c-a10c-315964a03e73",
      "metadata": {
        "id": "6d31869e-05f5-452c-a10c-315964a03e73"
      },
      "outputs": [],
      "source": [
        "keys = list(df[\"Key\"].unique())"
      ]
    },
    {
      "cell_type": "code",
      "execution_count": 175,
      "id": "0ca81692-a866-49d2-859c-cd227726facf",
      "metadata": {
        "id": "0ca81692-a866-49d2-859c-cd227726facf"
      },
      "outputs": [],
      "source": [
        "import numpy as np\n",
        "import random"
      ]
    },
    {
      "cell_type": "code",
      "execution_count": 176,
      "id": "996c5e93-0a96-411e-ad24-ad09619d7197",
      "metadata": {
        "id": "996c5e93-0a96-411e-ad24-ad09619d7197"
      },
      "outputs": [],
      "source": [
        "num_weights = len(keys)\n",
        "solutions_per_population = 8\n",
        "num_solutions_mating = 4\n",
        "def init_population(population_size):\n",
        "    population = []\n",
        "    for _ in range(population_size):\n",
        "        genome = keys[:]\n",
        "        random.shuffle(genome)\n",
        "        population.append(genome)\n",
        "    return population"
      ]
    },
    {
      "cell_type": "code",
      "execution_count": 177,
      "id": "e79af921-9466-4d27-811e-17fe0c76abfa",
      "metadata": {
        "id": "e79af921-9466-4d27-811e-17fe0c76abfa"
      },
      "outputs": [],
      "source": [
        "def mate(board1, board2):\n",
        "    idx = random.randint(0, 31)\n",
        "    length = random.randint(0,31)\n",
        "    child = [\"_\" for i in range(32)]\n",
        "    # Add keys from keyboard 1\n",
        "    for _ in range(length):\n",
        "        if idx > 28:\n",
        "            idx = 0\n",
        "        child[idx] = board1[idx]\n",
        "        idx += 1\n",
        "    \n",
        "    # Add remaining keys from keyboard 2\n",
        "    child_idx = idx\n",
        "    while \"_\" in child:\n",
        "        if idx > 31:\n",
        "            idx = 0\n",
        "        if child_idx > 31:\n",
        "            child_idx = 0\n",
        "        char = board2[idx]\n",
        "        if char in child:\n",
        "            idx += 1\n",
        "            continue\n",
        "        child[child_idx] = board2[idx]\n",
        "        child_idx += 1\n",
        "        idx += 1\n",
        "    \n",
        "    # 10% chance of random mutation\n",
        "    if random.random() >= 0.9:\n",
        "        p1 = random.randint(0,31)\n",
        "        p2 = random.randint(0,31)\n",
        "        allele1 = child[p1]\n",
        "        allele2 = child[p2]\n",
        "        child[p1] = allele2\n",
        "        child[p2] = allele1\n",
        "    return child"
      ]
    },
    {
      "cell_type": "code",
      "execution_count": 178,
      "id": "a23180fa-9e5b-41f4-a67a-54ec3db84172",
      "metadata": {
        "id": "a23180fa-9e5b-41f4-a67a-54ec3db84172"
      },
      "outputs": [],
      "source": [
        "def new_generation(population, sorted_evals, p_size):\n",
        "    new_gen = []\n",
        "    sorted_pop = []\n",
        "    for idx in sorted_evals:\n",
        "        sorted_pop.append(population[idx])\n",
        "    \n",
        "    # Best 10% of layouts in this generation\n",
        "    for i in range(int(p_size*0.1)):\n",
        "        new_gen.append(sorted_pop[i])\n",
        "    \n",
        "    # Combine two from top 50% and create a new generation\n",
        "    for _ in range(int(p_size * 0.9)):\n",
        "        pop = sorted_pop[:int(p_size*.5)]\n",
        "        p1, p2 = random.choices(pop, k=2)\n",
        "        child = mate(p1,p2)\n",
        "        new_gen.append(child)\n",
        "    return new_gen"
      ]
    },
    {
      "cell_type": "code",
      "execution_count": 179,
      "id": "dcca3933-cc79-4708-8f7a-430d31e6afc8",
      "metadata": {
        "id": "dcca3933-cc79-4708-8f7a-430d31e6afc8"
      },
      "outputs": [],
      "source": [
        "def calculate_time(s, layout, key2mod):\n",
        "    total_distance = 0\n",
        "    for char in s:\n",
        "        total_distance += key2mod[layout.index(char)]\n",
        "    return total_distance"
      ]
    },
    {
      "cell_type": "code",
      "execution_count": 180,
      "id": "b5e9c924-247f-4724-9263-b564fcc28741",
      "metadata": {
        "id": "b5e9c924-247f-4724-9263-b564fcc28741"
      },
      "outputs": [],
      "source": [
        "key2mod = dict(zip(df[\"Location\"], df[\"Modifier\"]))"
      ]
    },
    {
      "cell_type": "code",
      "source": [
        "def clean_text(text, keys):\n",
        "    text = text.replace(\"}\", \"]\").replace(\"{\", \"[\").replace(\":\", \";\").replace('\"', \"'\").replace(\">\", \".\").replace(\"<\", \",\")\n",
        "    return ''.join([t for t in text if t in keys])"
      ],
      "metadata": {
        "id": "91NJzt7VFUux"
      },
      "id": "91NJzt7VFUux",
      "execution_count": 193,
      "outputs": []
    },
    {
      "cell_type": "code",
      "source": [
        "cleaned = clean_text(text, keys)"
      ],
      "metadata": {
        "id": "8u3j1Y98FY7y"
      },
      "id": "8u3j1Y98FY7y",
      "execution_count": 194,
      "outputs": []
    },
    {
      "cell_type": "code",
      "source": [
        "len(cleaned), len(text)"
      ],
      "metadata": {
        "colab": {
          "base_uri": "https://localhost:8080/"
        },
        "id": "MTf01_PqFPWe",
        "outputId": "382680a1-6bea-4c5c-f4a0-c53be6b71610"
      },
      "id": "MTf01_PqFPWe",
      "execution_count": 195,
      "outputs": [
        {
          "output_type": "execute_result",
          "data": {
            "text/plain": [
              "(6100872, 10182785)"
            ]
          },
          "metadata": {},
          "execution_count": 195
        }
      ]
    },
    {
      "cell_type": "code",
      "execution_count": 196,
      "id": "a9ad3b55-f56d-44e5-bac4-be042a3a5535",
      "metadata": {
        "colab": {
          "base_uri": "https://localhost:8080/"
        },
        "id": "a9ad3b55-f56d-44e5-bac4-be042a3a5535",
        "outputId": "15624d27-bcbe-447b-f68f-b4c31706078e"
      },
      "outputs": [
        {
          "output_type": "stream",
          "name": "stdout",
          "text": [
            "Generation 0 best:\n",
            "\t6593216.366996985\n",
            "Generation 1 best:\n",
            "\t6593216.366996985\n",
            "Generation 2 best:\n",
            "\t6593216.366996985\n",
            "Generation 3 best:\n",
            "\t6593216.366996985\n",
            "Generation 4 best:\n",
            "\t6593216.366996985\n",
            "Generation 5 best:\n",
            "\t6508190.362488356\n",
            "Generation 6 best:\n",
            "\t6481162.118895515\n",
            "Generation 7 best:\n",
            "\t6438968.025074063\n",
            "Generation 8 best:\n",
            "\t6412945.805753794\n",
            "Generation 9 best:\n",
            "\t6168074.985319027\n",
            "Generation 10 best:\n",
            "\t6168074.985319027\n",
            "Generation 11 best:\n",
            "\t6168074.985319027\n",
            "Generation 12 best:\n",
            "\t6168074.985319027\n",
            "Generation 13 best:\n",
            "\t6168074.985319027\n",
            "Generation 14 best:\n",
            "\t6168074.985319027\n",
            "Generation 15 best:\n",
            "\t6168074.985319027\n",
            "Generation 16 best:\n",
            "\t6168074.985319027\n",
            "Generation 17 best:\n",
            "\t6168074.985319027\n",
            "Generation 18 best:\n",
            "\t6168074.985319027\n",
            "Generation 19 best:\n",
            "\t6154863.16022332\n"
          ]
        }
      ],
      "source": [
        "populations = init_population(10)\n",
        "num_generations = 20\n",
        "for generation in range(num_generations):\n",
        "    distances = []\n",
        "    for population in populations:\n",
        "        distances.append(\n",
        "            calculate_time(\n",
        "                cleaned, \n",
        "                population,\n",
        "                key2mod\n",
        "            )\n",
        "        )\n",
        "    sorted_evals = [x for _,x in sorted(zip(distances, range(len(distances) - 1)))]\n",
        "    print(f\"Generation {generation} best:\\n\\t{list(sorted(list(distances)))[0]}\")\n",
        "    if generation < num_generations - 1 or generation % 5 == 0:\n",
        "        populations = new_generation(populations, sorted_evals, 10)"
      ]
    },
    {
      "cell_type": "code",
      "source": [
        "# 12, 11, 9"
      ],
      "metadata": {
        "id": "TN7mDTmkl5qp"
      },
      "id": "TN7mDTmkl5qp",
      "execution_count": null,
      "outputs": []
    },
    {
      "cell_type": "code",
      "source": [
        "layout = populations[0]\n",
        "print(layout[:12])\n",
        "print(layout[12:(12+11)])\n",
        "print(layout[12+11:])"
      ],
      "metadata": {
        "colab": {
          "base_uri": "https://localhost:8080/"
        },
        "id": "gIEDDceJmA86",
        "outputId": "486a2383-37a9-4227-95db-6c060b748e2e"
      },
      "id": "gIEDDceJmA86",
      "execution_count": 202,
      "outputs": [
        {
          "output_type": "stream",
          "name": "stdout",
          "text": [
            "['j', 'i', 'x', 'o', 'a', 'n', 'q', 'y', 'u', ',', 'c', 'k']\n",
            "['r', 'p', 'm', 'e', 'v', '.', 't', 'd', ';', 'l', 'w']\n",
            "['h', 'z', 's', \"'\", '[', 'b', 'f', ']', 'g']\n"
          ]
        }
      ]
    },
    {
      "cell_type": "code",
      "execution_count": null,
      "id": "a58bcac0-4cc7-4fd2-be7e-54029de542d1",
      "metadata": {
        "id": "a58bcac0-4cc7-4fd2-be7e-54029de542d1"
      },
      "outputs": [],
      "source": []
    }
  ],
  "metadata": {
    "kernelspec": {
      "display_name": "Python 3 (ipykernel)",
      "language": "python",
      "name": "python3"
    },
    "language_info": {
      "codemirror_mode": {
        "name": "ipython",
        "version": 3
      },
      "file_extension": ".py",
      "mimetype": "text/x-python",
      "name": "python",
      "nbconvert_exporter": "python",
      "pygments_lexer": "ipython3",
      "version": "3.9.13"
    },
    "colab": {
      "provenance": [],
      "machine_shape": "hm"
    },
    "gpuClass": "standard",
    "widgets": {
      "application/vnd.jupyter.widget-state+json": {
        "bac864666e604516974904b4326605ee": {
          "model_module": "@jupyter-widgets/controls",
          "model_name": "VBoxModel",
          "model_module_version": "1.5.0",
          "state": {
            "_dom_classes": [],
            "_model_module": "@jupyter-widgets/controls",
            "_model_module_version": "1.5.0",
            "_model_name": "VBoxModel",
            "_view_count": null,
            "_view_module": "@jupyter-widgets/controls",
            "_view_module_version": "1.5.0",
            "_view_name": "VBoxView",
            "box_style": "",
            "children": [
              "IPY_MODEL_daf3af72f05a4d63bc535e16ad874629",
              "IPY_MODEL_c82155dda22b4a4da30202cec090f018",
              "IPY_MODEL_f12f0e0f7abd4503adcf64362ed17966",
              "IPY_MODEL_ecb437a526214ecd914dcb39f40551b1",
              "IPY_MODEL_7716ac2e1fae472d91787c182a5f25df"
            ],
            "layout": "IPY_MODEL_be82ac0e01bf4708a6cb11c85acfcf92"
          }
        },
        "daf3af72f05a4d63bc535e16ad874629": {
          "model_module": "@jupyter-widgets/controls",
          "model_name": "HTMLModel",
          "model_module_version": "1.5.0",
          "state": {
            "_dom_classes": [],
            "_model_module": "@jupyter-widgets/controls",
            "_model_module_version": "1.5.0",
            "_model_name": "HTMLModel",
            "_view_count": null,
            "_view_module": "@jupyter-widgets/controls",
            "_view_module_version": "1.5.0",
            "_view_name": "HTMLView",
            "description": "",
            "description_tooltip": null,
            "layout": "IPY_MODEL_e09b66e814774e1ea414af2c9af4f87d",
            "placeholder": "​",
            "style": "IPY_MODEL_ae67041d61de435781dcc4044b099d02",
            "value": "<center> <img\nsrc=https://huggingface.co/front/assets/huggingface_logo-noborder.svg\nalt='Hugging Face'> <br> Copy a token from <a\nhref=\"https://huggingface.co/settings/tokens\" target=\"_blank\">your Hugging Face\ntokens page</a> and paste it below. <br> Immediately click login after copying\nyour token or it might be stored in plain text in this notebook file. </center>"
          }
        },
        "c82155dda22b4a4da30202cec090f018": {
          "model_module": "@jupyter-widgets/controls",
          "model_name": "PasswordModel",
          "model_module_version": "1.5.0",
          "state": {
            "_dom_classes": [],
            "_model_module": "@jupyter-widgets/controls",
            "_model_module_version": "1.5.0",
            "_model_name": "PasswordModel",
            "_view_count": null,
            "_view_module": "@jupyter-widgets/controls",
            "_view_module_version": "1.5.0",
            "_view_name": "PasswordView",
            "continuous_update": true,
            "description": "Token:",
            "description_tooltip": null,
            "disabled": false,
            "layout": "IPY_MODEL_0e432c505d5d4f5d919973b4f36de957",
            "placeholder": "​",
            "style": "IPY_MODEL_1b43c9e49e794ea09d6c5b23d173d487",
            "value": ""
          }
        },
        "f12f0e0f7abd4503adcf64362ed17966": {
          "model_module": "@jupyter-widgets/controls",
          "model_name": "CheckboxModel",
          "model_module_version": "1.5.0",
          "state": {
            "_dom_classes": [],
            "_model_module": "@jupyter-widgets/controls",
            "_model_module_version": "1.5.0",
            "_model_name": "CheckboxModel",
            "_view_count": null,
            "_view_module": "@jupyter-widgets/controls",
            "_view_module_version": "1.5.0",
            "_view_name": "CheckboxView",
            "description": "Add token as git credential?",
            "description_tooltip": null,
            "disabled": false,
            "indent": true,
            "layout": "IPY_MODEL_6861be82746245bfb0c035e524523af9",
            "style": "IPY_MODEL_1e3ad0f3bdc647eca5c62bc70347df24",
            "value": true
          }
        },
        "ecb437a526214ecd914dcb39f40551b1": {
          "model_module": "@jupyter-widgets/controls",
          "model_name": "ButtonModel",
          "model_module_version": "1.5.0",
          "state": {
            "_dom_classes": [],
            "_model_module": "@jupyter-widgets/controls",
            "_model_module_version": "1.5.0",
            "_model_name": "ButtonModel",
            "_view_count": null,
            "_view_module": "@jupyter-widgets/controls",
            "_view_module_version": "1.5.0",
            "_view_name": "ButtonView",
            "button_style": "",
            "description": "Login",
            "disabled": false,
            "icon": "",
            "layout": "IPY_MODEL_b968898d9ac24ae7988d6b74032361b4",
            "style": "IPY_MODEL_319ba07de918431daa24c357bb16aaad",
            "tooltip": ""
          }
        },
        "7716ac2e1fae472d91787c182a5f25df": {
          "model_module": "@jupyter-widgets/controls",
          "model_name": "HTMLModel",
          "model_module_version": "1.5.0",
          "state": {
            "_dom_classes": [],
            "_model_module": "@jupyter-widgets/controls",
            "_model_module_version": "1.5.0",
            "_model_name": "HTMLModel",
            "_view_count": null,
            "_view_module": "@jupyter-widgets/controls",
            "_view_module_version": "1.5.0",
            "_view_name": "HTMLView",
            "description": "",
            "description_tooltip": null,
            "layout": "IPY_MODEL_d88bc79698a84187968601dbdd38d168",
            "placeholder": "​",
            "style": "IPY_MODEL_44ff8b3f33e74c9d983f850b205e6d8b",
            "value": "\n<b>Pro Tip:</b> If you don't already have one, you can create a dedicated\n'notebooks' token with 'write' access, that you can then easily reuse for all\nnotebooks. </center>"
          }
        },
        "be82ac0e01bf4708a6cb11c85acfcf92": {
          "model_module": "@jupyter-widgets/base",
          "model_name": "LayoutModel",
          "model_module_version": "1.2.0",
          "state": {
            "_model_module": "@jupyter-widgets/base",
            "_model_module_version": "1.2.0",
            "_model_name": "LayoutModel",
            "_view_count": null,
            "_view_module": "@jupyter-widgets/base",
            "_view_module_version": "1.2.0",
            "_view_name": "LayoutView",
            "align_content": null,
            "align_items": "center",
            "align_self": null,
            "border": null,
            "bottom": null,
            "display": "flex",
            "flex": null,
            "flex_flow": "column",
            "grid_area": null,
            "grid_auto_columns": null,
            "grid_auto_flow": null,
            "grid_auto_rows": null,
            "grid_column": null,
            "grid_gap": null,
            "grid_row": null,
            "grid_template_areas": null,
            "grid_template_columns": null,
            "grid_template_rows": null,
            "height": null,
            "justify_content": null,
            "justify_items": null,
            "left": null,
            "margin": null,
            "max_height": null,
            "max_width": null,
            "min_height": null,
            "min_width": null,
            "object_fit": null,
            "object_position": null,
            "order": null,
            "overflow": null,
            "overflow_x": null,
            "overflow_y": null,
            "padding": null,
            "right": null,
            "top": null,
            "visibility": null,
            "width": "50%"
          }
        },
        "e09b66e814774e1ea414af2c9af4f87d": {
          "model_module": "@jupyter-widgets/base",
          "model_name": "LayoutModel",
          "model_module_version": "1.2.0",
          "state": {
            "_model_module": "@jupyter-widgets/base",
            "_model_module_version": "1.2.0",
            "_model_name": "LayoutModel",
            "_view_count": null,
            "_view_module": "@jupyter-widgets/base",
            "_view_module_version": "1.2.0",
            "_view_name": "LayoutView",
            "align_content": null,
            "align_items": null,
            "align_self": null,
            "border": null,
            "bottom": null,
            "display": null,
            "flex": null,
            "flex_flow": null,
            "grid_area": null,
            "grid_auto_columns": null,
            "grid_auto_flow": null,
            "grid_auto_rows": null,
            "grid_column": null,
            "grid_gap": null,
            "grid_row": null,
            "grid_template_areas": null,
            "grid_template_columns": null,
            "grid_template_rows": null,
            "height": null,
            "justify_content": null,
            "justify_items": null,
            "left": null,
            "margin": null,
            "max_height": null,
            "max_width": null,
            "min_height": null,
            "min_width": null,
            "object_fit": null,
            "object_position": null,
            "order": null,
            "overflow": null,
            "overflow_x": null,
            "overflow_y": null,
            "padding": null,
            "right": null,
            "top": null,
            "visibility": null,
            "width": null
          }
        },
        "ae67041d61de435781dcc4044b099d02": {
          "model_module": "@jupyter-widgets/controls",
          "model_name": "DescriptionStyleModel",
          "model_module_version": "1.5.0",
          "state": {
            "_model_module": "@jupyter-widgets/controls",
            "_model_module_version": "1.5.0",
            "_model_name": "DescriptionStyleModel",
            "_view_count": null,
            "_view_module": "@jupyter-widgets/base",
            "_view_module_version": "1.2.0",
            "_view_name": "StyleView",
            "description_width": ""
          }
        },
        "0e432c505d5d4f5d919973b4f36de957": {
          "model_module": "@jupyter-widgets/base",
          "model_name": "LayoutModel",
          "model_module_version": "1.2.0",
          "state": {
            "_model_module": "@jupyter-widgets/base",
            "_model_module_version": "1.2.0",
            "_model_name": "LayoutModel",
            "_view_count": null,
            "_view_module": "@jupyter-widgets/base",
            "_view_module_version": "1.2.0",
            "_view_name": "LayoutView",
            "align_content": null,
            "align_items": null,
            "align_self": null,
            "border": null,
            "bottom": null,
            "display": null,
            "flex": null,
            "flex_flow": null,
            "grid_area": null,
            "grid_auto_columns": null,
            "grid_auto_flow": null,
            "grid_auto_rows": null,
            "grid_column": null,
            "grid_gap": null,
            "grid_row": null,
            "grid_template_areas": null,
            "grid_template_columns": null,
            "grid_template_rows": null,
            "height": null,
            "justify_content": null,
            "justify_items": null,
            "left": null,
            "margin": null,
            "max_height": null,
            "max_width": null,
            "min_height": null,
            "min_width": null,
            "object_fit": null,
            "object_position": null,
            "order": null,
            "overflow": null,
            "overflow_x": null,
            "overflow_y": null,
            "padding": null,
            "right": null,
            "top": null,
            "visibility": null,
            "width": null
          }
        },
        "1b43c9e49e794ea09d6c5b23d173d487": {
          "model_module": "@jupyter-widgets/controls",
          "model_name": "DescriptionStyleModel",
          "model_module_version": "1.5.0",
          "state": {
            "_model_module": "@jupyter-widgets/controls",
            "_model_module_version": "1.5.0",
            "_model_name": "DescriptionStyleModel",
            "_view_count": null,
            "_view_module": "@jupyter-widgets/base",
            "_view_module_version": "1.2.0",
            "_view_name": "StyleView",
            "description_width": ""
          }
        },
        "6861be82746245bfb0c035e524523af9": {
          "model_module": "@jupyter-widgets/base",
          "model_name": "LayoutModel",
          "model_module_version": "1.2.0",
          "state": {
            "_model_module": "@jupyter-widgets/base",
            "_model_module_version": "1.2.0",
            "_model_name": "LayoutModel",
            "_view_count": null,
            "_view_module": "@jupyter-widgets/base",
            "_view_module_version": "1.2.0",
            "_view_name": "LayoutView",
            "align_content": null,
            "align_items": null,
            "align_self": null,
            "border": null,
            "bottom": null,
            "display": null,
            "flex": null,
            "flex_flow": null,
            "grid_area": null,
            "grid_auto_columns": null,
            "grid_auto_flow": null,
            "grid_auto_rows": null,
            "grid_column": null,
            "grid_gap": null,
            "grid_row": null,
            "grid_template_areas": null,
            "grid_template_columns": null,
            "grid_template_rows": null,
            "height": null,
            "justify_content": null,
            "justify_items": null,
            "left": null,
            "margin": null,
            "max_height": null,
            "max_width": null,
            "min_height": null,
            "min_width": null,
            "object_fit": null,
            "object_position": null,
            "order": null,
            "overflow": null,
            "overflow_x": null,
            "overflow_y": null,
            "padding": null,
            "right": null,
            "top": null,
            "visibility": null,
            "width": null
          }
        },
        "1e3ad0f3bdc647eca5c62bc70347df24": {
          "model_module": "@jupyter-widgets/controls",
          "model_name": "DescriptionStyleModel",
          "model_module_version": "1.5.0",
          "state": {
            "_model_module": "@jupyter-widgets/controls",
            "_model_module_version": "1.5.0",
            "_model_name": "DescriptionStyleModel",
            "_view_count": null,
            "_view_module": "@jupyter-widgets/base",
            "_view_module_version": "1.2.0",
            "_view_name": "StyleView",
            "description_width": ""
          }
        },
        "b968898d9ac24ae7988d6b74032361b4": {
          "model_module": "@jupyter-widgets/base",
          "model_name": "LayoutModel",
          "model_module_version": "1.2.0",
          "state": {
            "_model_module": "@jupyter-widgets/base",
            "_model_module_version": "1.2.0",
            "_model_name": "LayoutModel",
            "_view_count": null,
            "_view_module": "@jupyter-widgets/base",
            "_view_module_version": "1.2.0",
            "_view_name": "LayoutView",
            "align_content": null,
            "align_items": null,
            "align_self": null,
            "border": null,
            "bottom": null,
            "display": null,
            "flex": null,
            "flex_flow": null,
            "grid_area": null,
            "grid_auto_columns": null,
            "grid_auto_flow": null,
            "grid_auto_rows": null,
            "grid_column": null,
            "grid_gap": null,
            "grid_row": null,
            "grid_template_areas": null,
            "grid_template_columns": null,
            "grid_template_rows": null,
            "height": null,
            "justify_content": null,
            "justify_items": null,
            "left": null,
            "margin": null,
            "max_height": null,
            "max_width": null,
            "min_height": null,
            "min_width": null,
            "object_fit": null,
            "object_position": null,
            "order": null,
            "overflow": null,
            "overflow_x": null,
            "overflow_y": null,
            "padding": null,
            "right": null,
            "top": null,
            "visibility": null,
            "width": null
          }
        },
        "319ba07de918431daa24c357bb16aaad": {
          "model_module": "@jupyter-widgets/controls",
          "model_name": "ButtonStyleModel",
          "model_module_version": "1.5.0",
          "state": {
            "_model_module": "@jupyter-widgets/controls",
            "_model_module_version": "1.5.0",
            "_model_name": "ButtonStyleModel",
            "_view_count": null,
            "_view_module": "@jupyter-widgets/base",
            "_view_module_version": "1.2.0",
            "_view_name": "StyleView",
            "button_color": null,
            "font_weight": ""
          }
        },
        "d88bc79698a84187968601dbdd38d168": {
          "model_module": "@jupyter-widgets/base",
          "model_name": "LayoutModel",
          "model_module_version": "1.2.0",
          "state": {
            "_model_module": "@jupyter-widgets/base",
            "_model_module_version": "1.2.0",
            "_model_name": "LayoutModel",
            "_view_count": null,
            "_view_module": "@jupyter-widgets/base",
            "_view_module_version": "1.2.0",
            "_view_name": "LayoutView",
            "align_content": null,
            "align_items": null,
            "align_self": null,
            "border": null,
            "bottom": null,
            "display": null,
            "flex": null,
            "flex_flow": null,
            "grid_area": null,
            "grid_auto_columns": null,
            "grid_auto_flow": null,
            "grid_auto_rows": null,
            "grid_column": null,
            "grid_gap": null,
            "grid_row": null,
            "grid_template_areas": null,
            "grid_template_columns": null,
            "grid_template_rows": null,
            "height": null,
            "justify_content": null,
            "justify_items": null,
            "left": null,
            "margin": null,
            "max_height": null,
            "max_width": null,
            "min_height": null,
            "min_width": null,
            "object_fit": null,
            "object_position": null,
            "order": null,
            "overflow": null,
            "overflow_x": null,
            "overflow_y": null,
            "padding": null,
            "right": null,
            "top": null,
            "visibility": null,
            "width": null
          }
        },
        "44ff8b3f33e74c9d983f850b205e6d8b": {
          "model_module": "@jupyter-widgets/controls",
          "model_name": "DescriptionStyleModel",
          "model_module_version": "1.5.0",
          "state": {
            "_model_module": "@jupyter-widgets/controls",
            "_model_module_version": "1.5.0",
            "_model_name": "DescriptionStyleModel",
            "_view_count": null,
            "_view_module": "@jupyter-widgets/base",
            "_view_module_version": "1.2.0",
            "_view_name": "StyleView",
            "description_width": ""
          }
        }
      }
    }
  },
  "nbformat": 4,
  "nbformat_minor": 5
}