{
 "cells": [
  {
   "cell_type": "code",
   "execution_count": 1,
   "id": "d0224437-158f-469c-a982-82f4b839f3e6",
   "metadata": {},
   "outputs": [],
   "source": [
    "import pandas as pd"
   ]
  },
  {
   "cell_type": "code",
   "execution_count": 3,
   "id": "e3eb650d-c418-4081-9be4-9da080c27b6c",
   "metadata": {},
   "outputs": [],
   "source": [
    "df = pd.read_csv(\"key_times.csv\")"
   ]
  },
  {
   "cell_type": "code",
   "execution_count": 4,
   "id": "4aba098b-2d9f-40a0-9f6a-91df9d84ea2a",
   "metadata": {},
   "outputs": [
    {
     "data": {
      "text/html": [
       "<div>\n",
       "<style scoped>\n",
       "    .dataframe tbody tr th:only-of-type {\n",
       "        vertical-align: middle;\n",
       "    }\n",
       "\n",
       "    .dataframe tbody tr th {\n",
       "        vertical-align: top;\n",
       "    }\n",
       "\n",
       "    .dataframe thead th {\n",
       "        text-align: right;\n",
       "    }\n",
       "</style>\n",
       "<table border=\"1\" class=\"dataframe\">\n",
       "  <thead>\n",
       "    <tr style=\"text-align: right;\">\n",
       "      <th></th>\n",
       "      <th>key</th>\n",
       "      <th>time</th>\n",
       "      <th>distance</th>\n",
       "      <th>iteration</th>\n",
       "    </tr>\n",
       "  </thead>\n",
       "  <tbody>\n",
       "    <tr>\n",
       "      <th>0</th>\n",
       "      <td>w</td>\n",
       "      <td>0.807533</td>\n",
       "      <td>1</td>\n",
       "      <td>0</td>\n",
       "    </tr>\n",
       "    <tr>\n",
       "      <th>1</th>\n",
       "      <td>;</td>\n",
       "      <td>0.824346</td>\n",
       "      <td>0</td>\n",
       "      <td>0</td>\n",
       "    </tr>\n",
       "    <tr>\n",
       "      <th>2</th>\n",
       "      <td>.</td>\n",
       "      <td>0.813559</td>\n",
       "      <td>1</td>\n",
       "      <td>0</td>\n",
       "    </tr>\n",
       "    <tr>\n",
       "      <th>3</th>\n",
       "      <td>/</td>\n",
       "      <td>0.818652</td>\n",
       "      <td>1</td>\n",
       "      <td>0</td>\n",
       "    </tr>\n",
       "    <tr>\n",
       "      <th>4</th>\n",
       "      <td>p</td>\n",
       "      <td>0.631220</td>\n",
       "      <td>1</td>\n",
       "      <td>0</td>\n",
       "    </tr>\n",
       "  </tbody>\n",
       "</table>\n",
       "</div>"
      ],
      "text/plain": [
       "  key      time  distance  iteration\n",
       "0   w  0.807533         1          0\n",
       "1   ;  0.824346         0          0\n",
       "2   .  0.813559         1          0\n",
       "3   /  0.818652         1          0\n",
       "4   p  0.631220         1          0"
      ]
     },
     "execution_count": 4,
     "metadata": {},
     "output_type": "execute_result"
    }
   ],
   "source": [
    "df.head() # Note times are in seconds"
   ]
  },
  {
   "cell_type": "code",
   "execution_count": 5,
   "id": "f7d4e9e4-0749-43e3-a470-38945925fe65",
   "metadata": {},
   "outputs": [],
   "source": [
    "avg_times = df.groupby([\"key\"], as_index=False).mean()[[\"key\", \"time\", \"distance\"]]"
   ]
  },
  {
   "cell_type": "code",
   "execution_count": 6,
   "id": "132cb5c9-a15e-4d84-8716-c5815c2421c1",
   "metadata": {},
   "outputs": [
    {
     "data": {
      "text/html": [
       "<div>\n",
       "<style scoped>\n",
       "    .dataframe tbody tr th:only-of-type {\n",
       "        vertical-align: middle;\n",
       "    }\n",
       "\n",
       "    .dataframe tbody tr th {\n",
       "        vertical-align: top;\n",
       "    }\n",
       "\n",
       "    .dataframe thead th {\n",
       "        text-align: right;\n",
       "    }\n",
       "</style>\n",
       "<table border=\"1\" class=\"dataframe\">\n",
       "  <thead>\n",
       "    <tr style=\"text-align: right;\">\n",
       "      <th></th>\n",
       "      <th>key</th>\n",
       "      <th>time</th>\n",
       "      <th>distance</th>\n",
       "    </tr>\n",
       "  </thead>\n",
       "  <tbody>\n",
       "    <tr>\n",
       "      <th>0</th>\n",
       "      <td>'</td>\n",
       "      <td>0.708456</td>\n",
       "      <td>1.0</td>\n",
       "    </tr>\n",
       "    <tr>\n",
       "      <th>1</th>\n",
       "      <td>,</td>\n",
       "      <td>0.752540</td>\n",
       "      <td>1.0</td>\n",
       "    </tr>\n",
       "    <tr>\n",
       "      <th>2</th>\n",
       "      <td>.</td>\n",
       "      <td>0.824321</td>\n",
       "      <td>1.0</td>\n",
       "    </tr>\n",
       "    <tr>\n",
       "      <th>3</th>\n",
       "      <td>/</td>\n",
       "      <td>0.799975</td>\n",
       "      <td>1.0</td>\n",
       "    </tr>\n",
       "    <tr>\n",
       "      <th>4</th>\n",
       "      <td>;</td>\n",
       "      <td>0.854735</td>\n",
       "      <td>0.0</td>\n",
       "    </tr>\n",
       "  </tbody>\n",
       "</table>\n",
       "</div>"
      ],
      "text/plain": [
       "  key      time  distance\n",
       "0   '  0.708456       1.0\n",
       "1   ,  0.752540       1.0\n",
       "2   .  0.824321       1.0\n",
       "3   /  0.799975       1.0\n",
       "4   ;  0.854735       0.0"
      ]
     },
     "execution_count": 6,
     "metadata": {},
     "output_type": "execute_result"
    }
   ],
   "source": [
    "avg_times.head()"
   ]
  },
  {
   "cell_type": "code",
   "execution_count": 7,
   "id": "f0c0a3cd-ab9d-4119-89f4-9f86452cf4ac",
   "metadata": {},
   "outputs": [],
   "source": [
    "avg_times.columns = [\"Key\", \"Average Time (s)\", \"Distance\"]"
   ]
  },
  {
   "cell_type": "code",
   "execution_count": 8,
   "id": "37a2c361-7a01-47ae-af36-61231be09743",
   "metadata": {},
   "outputs": [],
   "source": [
    "avg_times[\"Distance\"] = avg_times[\"Distance\"].astype(\"int\")"
   ]
  },
  {
   "cell_type": "code",
   "execution_count": 9,
   "id": "acf2f050-5842-4626-bb8b-8acc0ce340eb",
   "metadata": {},
   "outputs": [
    {
     "data": {
      "text/html": [
       "<div>\n",
       "<style scoped>\n",
       "    .dataframe tbody tr th:only-of-type {\n",
       "        vertical-align: middle;\n",
       "    }\n",
       "\n",
       "    .dataframe tbody tr th {\n",
       "        vertical-align: top;\n",
       "    }\n",
       "\n",
       "    .dataframe thead th {\n",
       "        text-align: right;\n",
       "    }\n",
       "</style>\n",
       "<table border=\"1\" class=\"dataframe\">\n",
       "  <thead>\n",
       "    <tr style=\"text-align: right;\">\n",
       "      <th></th>\n",
       "      <th>Key</th>\n",
       "      <th>Average Time (s)</th>\n",
       "      <th>Distance</th>\n",
       "    </tr>\n",
       "  </thead>\n",
       "  <tbody>\n",
       "    <tr>\n",
       "      <th>0</th>\n",
       "      <td>'</td>\n",
       "      <td>0.708456</td>\n",
       "      <td>1</td>\n",
       "    </tr>\n",
       "    <tr>\n",
       "      <th>1</th>\n",
       "      <td>,</td>\n",
       "      <td>0.752540</td>\n",
       "      <td>1</td>\n",
       "    </tr>\n",
       "    <tr>\n",
       "      <th>2</th>\n",
       "      <td>.</td>\n",
       "      <td>0.824321</td>\n",
       "      <td>1</td>\n",
       "    </tr>\n",
       "    <tr>\n",
       "      <th>3</th>\n",
       "      <td>/</td>\n",
       "      <td>0.799975</td>\n",
       "      <td>1</td>\n",
       "    </tr>\n",
       "    <tr>\n",
       "      <th>4</th>\n",
       "      <td>;</td>\n",
       "      <td>0.854735</td>\n",
       "      <td>0</td>\n",
       "    </tr>\n",
       "  </tbody>\n",
       "</table>\n",
       "</div>"
      ],
      "text/plain": [
       "  Key  Average Time (s)  Distance\n",
       "0   '          0.708456         1\n",
       "1   ,          0.752540         1\n",
       "2   .          0.824321         1\n",
       "3   /          0.799975         1\n",
       "4   ;          0.854735         0"
      ]
     },
     "execution_count": 9,
     "metadata": {},
     "output_type": "execute_result"
    }
   ],
   "source": [
    "avg_times.head()"
   ]
  },
  {
   "cell_type": "markdown",
   "id": "b474daef-df5e-4ecf-8c25-3ab5bb8cf766",
   "metadata": {},
   "source": [
    "The modifier will be average time * (distance + 1) to account for `0`"
   ]
  },
  {
   "cell_type": "code",
   "execution_count": 16,
   "id": "aa81d92e-22ec-469a-8b25-32e484b3066c",
   "metadata": {},
   "outputs": [],
   "source": [
    "key2position = {\n",
    "    \"a\": 0,\n",
    "    \"s\": 0,\n",
    "    \"d\": 0,\n",
    "    \"f\": 0,\n",
    "    \"g\": 0,\n",
    "    \"h\": 0,\n",
    "    \"j\": 0,\n",
    "    \"k\": 0,\n",
    "    \"l\": 0,\n",
    "    \";\": 0,\n",
    "    \"'\": 0,\n",
    "    \"q\": 1,\n",
    "    \"w\": 1,\n",
    "    \"e\": 1,\n",
    "    \"r\": 1,\n",
    "    \"t\": 1,\n",
    "    \"y\": 1,\n",
    "    \"u\": 1,\n",
    "    \"i\": 1,\n",
    "    \"o\": 1,\n",
    "    \"p\": 1,\n",
    "    \"[\": 1,\n",
    "    \"]\": 1,\n",
    "    \"z\": 2,\n",
    "    \"x\": 2,\n",
    "    \"c\": 2,\n",
    "    \"v\": 2,\n",
    "    \"b\": 2,\n",
    "    \"n\": 2,\n",
    "    \"m\": 2,\n",
    "    \",\": 2,\n",
    "    \".\": 2,\n",
    "    \"/\": 2\n",
    "}"
   ]
  },
  {
   "cell_type": "code",
   "execution_count": 24,
   "id": "d9a7fcd5-cabb-4aa0-a5b9-da47b5b5aaa7",
   "metadata": {},
   "outputs": [],
   "source": [
    "import numpy as np\n",
    "avg_times[\"Modifier\"] = avg_times[\"Average Time (s)\"] * np.log((avg_times[\"Distance\"] + 1) * (avg_times[\"Key\"].replace(key2position) + 1))"
   ]
  },
  {
   "cell_type": "code",
   "execution_count": 25,
   "id": "acafebb5-6036-41c8-9fad-04721729b461",
   "metadata": {},
   "outputs": [
    {
     "data": {
      "text/html": [
       "<div>\n",
       "<style scoped>\n",
       "    .dataframe tbody tr th:only-of-type {\n",
       "        vertical-align: middle;\n",
       "    }\n",
       "\n",
       "    .dataframe tbody tr th {\n",
       "        vertical-align: top;\n",
       "    }\n",
       "\n",
       "    .dataframe thead th {\n",
       "        text-align: right;\n",
       "    }\n",
       "</style>\n",
       "<table border=\"1\" class=\"dataframe\">\n",
       "  <thead>\n",
       "    <tr style=\"text-align: right;\">\n",
       "      <th></th>\n",
       "      <th>Key</th>\n",
       "      <th>Average Time (s)</th>\n",
       "      <th>Distance</th>\n",
       "      <th>Modifier</th>\n",
       "    </tr>\n",
       "  </thead>\n",
       "  <tbody>\n",
       "    <tr>\n",
       "      <th>0</th>\n",
       "      <td>'</td>\n",
       "      <td>0.708456</td>\n",
       "      <td>1</td>\n",
       "      <td>0.491064</td>\n",
       "    </tr>\n",
       "    <tr>\n",
       "      <th>1</th>\n",
       "      <td>,</td>\n",
       "      <td>0.752540</td>\n",
       "      <td>1</td>\n",
       "      <td>1.348371</td>\n",
       "    </tr>\n",
       "    <tr>\n",
       "      <th>2</th>\n",
       "      <td>.</td>\n",
       "      <td>0.824321</td>\n",
       "      <td>1</td>\n",
       "      <td>1.476985</td>\n",
       "    </tr>\n",
       "    <tr>\n",
       "      <th>3</th>\n",
       "      <td>/</td>\n",
       "      <td>0.799975</td>\n",
       "      <td>1</td>\n",
       "      <td>1.433363</td>\n",
       "    </tr>\n",
       "    <tr>\n",
       "      <th>4</th>\n",
       "      <td>;</td>\n",
       "      <td>0.854735</td>\n",
       "      <td>0</td>\n",
       "      <td>0.000000</td>\n",
       "    </tr>\n",
       "  </tbody>\n",
       "</table>\n",
       "</div>"
      ],
      "text/plain": [
       "  Key  Average Time (s)  Distance  Modifier\n",
       "0   '          0.708456         1  0.491064\n",
       "1   ,          0.752540         1  1.348371\n",
       "2   .          0.824321         1  1.476985\n",
       "3   /          0.799975         1  1.433363\n",
       "4   ;          0.854735         0  0.000000"
      ]
     },
     "execution_count": 25,
     "metadata": {},
     "output_type": "execute_result"
    }
   ],
   "source": [
    "avg_times.head()"
   ]
  },
  {
   "cell_type": "code",
   "execution_count": 26,
   "id": "1c898491-40ae-4efe-b817-8a250792fb31",
   "metadata": {},
   "outputs": [],
   "source": [
    "avg_times.to_csv(\"baseline/with_modifier.csv\")"
   ]
  },
  {
   "cell_type": "code",
   "execution_count": 27,
   "id": "b7e07137-084b-4743-b47a-0aa946ba9d86",
   "metadata": {},
   "outputs": [
    {
     "data": {
      "image/png": "[encoded data removed]",
      "text/plain": [
       "<Figure size 432x288 with 1 Axes>"
      ]
     },
     "metadata": {
      "needs_background": "light"
     },
     "output_type": "display_data"
    }
   ],
   "source": [
    "avg_times[[\"Distance\", \"Average Time (s)\"]].plot(\n",
    "    kind=\"scatter\", \n",
    "    x=\"Distance\", \n",
    "    y=\"Average Time (s)\",\n",
    "    xticks=[0,1,2]\n",
    ");"
   ]
  },
  {
   "cell_type": "code",
   "execution_count": null,
   "id": "25e93a4b-82ff-431e-aca8-de3c77052150",
   "metadata": {},
   "outputs": [],
   "source": []
  }
 ],
 "metadata": {
  "kernelspec": {
   "display_name": "Python 3 (ipykernel)",
   "language": "python",
   "name": "python3"
  },
  "language_info": {
   "codemirror_mode": {
    "name": "ipython",
    "version": 3
   },
   "file_extension": ".py",
   "mimetype": "text/x-python",
   "name": "python",
   "nbconvert_exporter": "python",
   "pygments_lexer": "ipython3",
   "version": "3.8.10"
  }
 },
 "nbformat": 4,
 "nbformat_minor": 5
}
