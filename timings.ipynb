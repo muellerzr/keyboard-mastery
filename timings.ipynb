{
 "cells": [
  {
   "cell_type": "code",
   "execution_count": 1,
   "id": "d0224437-158f-469c-a982-82f4b839f3e6",
   "metadata": {},
   "outputs": [],
   "source": [
    "import pandas as pd"
   ]
  },
  {
   "cell_type": "code",
   "execution_count": 4,
   "id": "e3eb650d-c418-4081-9be4-9da080c27b6c",
   "metadata": {},
   "outputs": [],
   "source": [
    "df = pd.read_csv(\"baseline/key_times.csv\")"
   ]
  },
  {
   "cell_type": "code",
   "execution_count": 6,
   "id": "4aba098b-2d9f-40a0-9f6a-91df9d84ea2a",
   "metadata": {},
   "outputs": [
    {
     "data": {
      "text/html": [
       "<div>\n",
       "<style scoped>\n",
       "    .dataframe tbody tr th:only-of-type {\n",
       "        vertical-align: middle;\n",
       "    }\n",
       "\n",
       "    .dataframe tbody tr th {\n",
       "        vertical-align: top;\n",
       "    }\n",
       "\n",
       "    .dataframe thead th {\n",
       "        text-align: right;\n",
       "    }\n",
       "</style>\n",
       "<table border=\"1\" class=\"dataframe\">\n",
       "  <thead>\n",
       "    <tr style=\"text-align: right;\">\n",
       "      <th></th>\n",
       "      <th>key</th>\n",
       "      <th>time</th>\n",
       "      <th>distance</th>\n",
       "      <th>iteration</th>\n",
       "    </tr>\n",
       "  </thead>\n",
       "  <tbody>\n",
       "    <tr>\n",
       "      <th>0</th>\n",
       "      <td>b</td>\n",
       "      <td>0.634781</td>\n",
       "      <td>2</td>\n",
       "      <td>0</td>\n",
       "    </tr>\n",
       "    <tr>\n",
       "      <th>1</th>\n",
       "      <td>m</td>\n",
       "      <td>0.551876</td>\n",
       "      <td>1</td>\n",
       "      <td>0</td>\n",
       "    </tr>\n",
       "    <tr>\n",
       "      <th>2</th>\n",
       "      <td>u</td>\n",
       "      <td>0.565080</td>\n",
       "      <td>1</td>\n",
       "      <td>0</td>\n",
       "    </tr>\n",
       "    <tr>\n",
       "      <th>3</th>\n",
       "      <td>j</td>\n",
       "      <td>0.533730</td>\n",
       "      <td>0</td>\n",
       "      <td>0</td>\n",
       "    </tr>\n",
       "    <tr>\n",
       "      <th>4</th>\n",
       "      <td>,</td>\n",
       "      <td>0.804050</td>\n",
       "      <td>1</td>\n",
       "      <td>0</td>\n",
       "    </tr>\n",
       "  </tbody>\n",
       "</table>\n",
       "</div>"
      ],
      "text/plain": [
       "  key      time  distance  iteration\n",
       "0   b  0.634781         2          0\n",
       "1   m  0.551876         1          0\n",
       "2   u  0.565080         1          0\n",
       "3   j  0.533730         0          0\n",
       "4   ,  0.804050         1          0"
      ]
     },
     "execution_count": 6,
     "metadata": {},
     "output_type": "execute_result"
    }
   ],
   "source": [
    "df.head() # Note times are in seconds"
   ]
  },
  {
   "cell_type": "code",
   "execution_count": 22,
   "id": "f7d4e9e4-0749-43e3-a470-38945925fe65",
   "metadata": {},
   "outputs": [],
   "source": [
    "avg_times = df.groupby([\"key\"], as_index=False).mean()[[\"key\", \"time\", \"distance\"]]"
   ]
  },
  {
   "cell_type": "code",
   "execution_count": 24,
   "id": "132cb5c9-a15e-4d84-8716-c5815c2421c1",
   "metadata": {},
   "outputs": [
    {
     "data": {
      "text/html": [
       "<div>\n",
       "<style scoped>\n",
       "    .dataframe tbody tr th:only-of-type {\n",
       "        vertical-align: middle;\n",
       "    }\n",
       "\n",
       "    .dataframe tbody tr th {\n",
       "        vertical-align: top;\n",
       "    }\n",
       "\n",
       "    .dataframe thead th {\n",
       "        text-align: right;\n",
       "    }\n",
       "</style>\n",
       "<table border=\"1\" class=\"dataframe\">\n",
       "  <thead>\n",
       "    <tr style=\"text-align: right;\">\n",
       "      <th></th>\n",
       "      <th>key</th>\n",
       "      <th>time</th>\n",
       "      <th>distance</th>\n",
       "    </tr>\n",
       "  </thead>\n",
       "  <tbody>\n",
       "    <tr>\n",
       "      <th>0</th>\n",
       "      <td>,</td>\n",
       "      <td>0.721701</td>\n",
       "      <td>1.0</td>\n",
       "    </tr>\n",
       "    <tr>\n",
       "      <th>1</th>\n",
       "      <td>.</td>\n",
       "      <td>0.635377</td>\n",
       "      <td>1.0</td>\n",
       "    </tr>\n",
       "    <tr>\n",
       "      <th>2</th>\n",
       "      <td>;</td>\n",
       "      <td>0.583544</td>\n",
       "      <td>0.0</td>\n",
       "    </tr>\n",
       "    <tr>\n",
       "      <th>3</th>\n",
       "      <td>a</td>\n",
       "      <td>0.623853</td>\n",
       "      <td>0.0</td>\n",
       "    </tr>\n",
       "    <tr>\n",
       "      <th>4</th>\n",
       "      <td>b</td>\n",
       "      <td>0.644470</td>\n",
       "      <td>2.0</td>\n",
       "    </tr>\n",
       "  </tbody>\n",
       "</table>\n",
       "</div>"
      ],
      "text/plain": [
       "  key      time  distance\n",
       "0   ,  0.721701       1.0\n",
       "1   .  0.635377       1.0\n",
       "2   ;  0.583544       0.0\n",
       "3   a  0.623853       0.0\n",
       "4   b  0.644470       2.0"
      ]
     },
     "execution_count": 24,
     "metadata": {},
     "output_type": "execute_result"
    }
   ],
   "source": [
    "avg_times.head()"
   ]
  },
  {
   "cell_type": "code",
   "execution_count": 25,
   "id": "f0c0a3cd-ab9d-4119-89f4-9f86452cf4ac",
   "metadata": {},
   "outputs": [],
   "source": [
    "avg_times.columns = [\"Key\", \"Average Time (s)\", \"Distance\"]"
   ]
  },
  {
   "cell_type": "code",
   "execution_count": 29,
   "id": "37a2c361-7a01-47ae-af36-61231be09743",
   "metadata": {},
   "outputs": [],
   "source": [
    "avg_times[\"Distance\"] = avg_times[\"Distance\"].astype(\"int\")"
   ]
  },
  {
   "cell_type": "code",
   "execution_count": 30,
   "id": "acf2f050-5842-4626-bb8b-8acc0ce340eb",
   "metadata": {},
   "outputs": [
    {
     "data": {
      "text/html": [
       "<div>\n",
       "<style scoped>\n",
       "    .dataframe tbody tr th:only-of-type {\n",
       "        vertical-align: middle;\n",
       "    }\n",
       "\n",
       "    .dataframe tbody tr th {\n",
       "        vertical-align: top;\n",
       "    }\n",
       "\n",
       "    .dataframe thead th {\n",
       "        text-align: right;\n",
       "    }\n",
       "</style>\n",
       "<table border=\"1\" class=\"dataframe\">\n",
       "  <thead>\n",
       "    <tr style=\"text-align: right;\">\n",
       "      <th></th>\n",
       "      <th>Key</th>\n",
       "      <th>Average Time (s)</th>\n",
       "      <th>Distance</th>\n",
       "    </tr>\n",
       "  </thead>\n",
       "  <tbody>\n",
       "    <tr>\n",
       "      <th>0</th>\n",
       "      <td>,</td>\n",
       "      <td>0.721701</td>\n",
       "      <td>1</td>\n",
       "    </tr>\n",
       "    <tr>\n",
       "      <th>1</th>\n",
       "      <td>.</td>\n",
       "      <td>0.635377</td>\n",
       "      <td>1</td>\n",
       "    </tr>\n",
       "    <tr>\n",
       "      <th>2</th>\n",
       "      <td>;</td>\n",
       "      <td>0.583544</td>\n",
       "      <td>0</td>\n",
       "    </tr>\n",
       "    <tr>\n",
       "      <th>3</th>\n",
       "      <td>a</td>\n",
       "      <td>0.623853</td>\n",
       "      <td>0</td>\n",
       "    </tr>\n",
       "    <tr>\n",
       "      <th>4</th>\n",
       "      <td>b</td>\n",
       "      <td>0.644470</td>\n",
       "      <td>2</td>\n",
       "    </tr>\n",
       "  </tbody>\n",
       "</table>\n",
       "</div>"
      ],
      "text/plain": [
       "  Key  Average Time (s)  Distance\n",
       "0   ,          0.721701         1\n",
       "1   .          0.635377         1\n",
       "2   ;          0.583544         0\n",
       "3   a          0.623853         0\n",
       "4   b          0.644470         2"
      ]
     },
     "execution_count": 30,
     "metadata": {},
     "output_type": "execute_result"
    }
   ],
   "source": [
    "avg_times.head()"
   ]
  },
  {
   "cell_type": "markdown",
   "id": "b474daef-df5e-4ecf-8c25-3ab5bb8cf766",
   "metadata": {},
   "source": [
    "The modifier will be average time * (distance + 1) to account for `0`"
   ]
  },
  {
   "cell_type": "code",
   "execution_count": 31,
   "id": "d9a7fcd5-cabb-4aa0-a5b9-da47b5b5aaa7",
   "metadata": {},
   "outputs": [],
   "source": [
    "avg_times[\"Modifier\"] = avg_times[\"Average Time (s)\"] * (avg_times[\"Distance\"] + 1)"
   ]
  },
  {
   "cell_type": "code",
   "execution_count": 46,
   "id": "acafebb5-6036-41c8-9fad-04721729b461",
   "metadata": {},
   "outputs": [
    {
     "data": {
      "text/plain": [
       "array([',', '.', ';', 'a', 'b', 'c', 'd', 'e', 'f', 'g', 'h', 'i', 'j',\n",
       "       'k', 'l', 'm', 'n', 'o', 'p', 'q', 'r', 's', 't', 'u', 'v', 'w',\n",
       "       'x', 'y', 'z'], dtype=object)"
      ]
     },
     "execution_count": 46,
     "metadata": {},
     "output_type": "execute_result"
    }
   ],
   "source": [
    "avg_times[\"Key\"].unique()"
   ]
  },
  {
   "cell_type": "code",
   "execution_count": 32,
   "id": "da1fb332-b4f0-4063-93b8-c8f4ccd2bed7",
   "metadata": {},
   "outputs": [
    {
     "data": {
      "text/html": [
       "<div>\n",
       "<style scoped>\n",
       "    .dataframe tbody tr th:only-of-type {\n",
       "        vertical-align: middle;\n",
       "    }\n",
       "\n",
       "    .dataframe tbody tr th {\n",
       "        vertical-align: top;\n",
       "    }\n",
       "\n",
       "    .dataframe thead th {\n",
       "        text-align: right;\n",
       "    }\n",
       "</style>\n",
       "<table border=\"1\" class=\"dataframe\">\n",
       "  <thead>\n",
       "    <tr style=\"text-align: right;\">\n",
       "      <th></th>\n",
       "      <th>Key</th>\n",
       "      <th>Average Time (s)</th>\n",
       "      <th>Distance</th>\n",
       "      <th>Modifier</th>\n",
       "    </tr>\n",
       "  </thead>\n",
       "  <tbody>\n",
       "    <tr>\n",
       "      <th>0</th>\n",
       "      <td>,</td>\n",
       "      <td>0.721701</td>\n",
       "      <td>1</td>\n",
       "      <td>1.443402</td>\n",
       "    </tr>\n",
       "    <tr>\n",
       "      <th>1</th>\n",
       "      <td>.</td>\n",
       "      <td>0.635377</td>\n",
       "      <td>1</td>\n",
       "      <td>1.270754</td>\n",
       "    </tr>\n",
       "    <tr>\n",
       "      <th>2</th>\n",
       "      <td>;</td>\n",
       "      <td>0.583544</td>\n",
       "      <td>0</td>\n",
       "      <td>0.583544</td>\n",
       "    </tr>\n",
       "    <tr>\n",
       "      <th>3</th>\n",
       "      <td>a</td>\n",
       "      <td>0.623853</td>\n",
       "      <td>0</td>\n",
       "      <td>0.623853</td>\n",
       "    </tr>\n",
       "    <tr>\n",
       "      <th>4</th>\n",
       "      <td>b</td>\n",
       "      <td>0.644470</td>\n",
       "      <td>2</td>\n",
       "      <td>1.933409</td>\n",
       "    </tr>\n",
       "  </tbody>\n",
       "</table>\n",
       "</div>"
      ],
      "text/plain": [
       "  Key  Average Time (s)  Distance  Modifier\n",
       "0   ,          0.721701         1  1.443402\n",
       "1   .          0.635377         1  1.270754\n",
       "2   ;          0.583544         0  0.583544\n",
       "3   a          0.623853         0  0.623853\n",
       "4   b          0.644470         2  1.933409"
      ]
     },
     "execution_count": 32,
     "metadata": {},
     "output_type": "execute_result"
    }
   ],
   "source": [
    "avg_times.head()"
   ]
  },
  {
   "cell_type": "code",
   "execution_count": 45,
   "id": "1c898491-40ae-4efe-b817-8a250792fb31",
   "metadata": {},
   "outputs": [],
   "source": [
    "avg_times.to_csv(\"baseline/with_modifier.csv\")"
   ]
  },
  {
   "cell_type": "code",
   "execution_count": 44,
   "id": "b7e07137-084b-4743-b47a-0aa946ba9d86",
   "metadata": {},
   "outputs": [
    {
     "data": {
      "image/png": "[encoded data removed]",
      "text/plain": [
       "<Figure size 640x480 with 1 Axes>"
      ]
     },
     "metadata": {},
     "output_type": "display_data"
    }
   ],
   "source": [
    "avg_times[[\"Distance\", \"Average Time (s)\"]].plot(\n",
    "    kind=\"scatter\", \n",
    "    x=\"Distance\", \n",
    "    y=\"Average Time (s)\",\n",
    "    xticks=[0,1,2]\n",
    ");"
   ]
  },
  {
   "cell_type": "code",
   "execution_count": 43,
   "id": "c9db3378-862f-46a2-a626-5fc2555c5c5c",
   "metadata": {},
   "outputs": [
    {
     "data": {
      "image/png": "[encoded data removed]",
      "text/plain": [
       "<Figure size 640x480 with 1 Axes>"
      ]
     },
     "metadata": {},
     "output_type": "display_data"
    }
   ],
   "source": [
    "avg_times[[\"Distance\", \"Modifier\"]].plot(\n",
    "    kind=\"scatter\", \n",
    "    x=\"Distance\", \n",
    "    y=\"Modifier\",\n",
    "    xticks=[0,1,2]\n",
    ");"
   ]
  },
  {
   "cell_type": "code",
   "execution_count": null,
   "id": "25e93a4b-82ff-431e-aca8-de3c77052150",
   "metadata": {},
   "outputs": [],
   "source": []
  }
 ],
 "metadata": {
  "kernelspec": {
   "display_name": "Python 3 (ipykernel)",
   "language": "python",
   "name": "python3"
  },
  "language_info": {
   "codemirror_mode": {
    "name": "ipython",
    "version": 3
   },
   "file_extension": ".py",
   "mimetype": "text/x-python",
   "name": "python",
   "nbconvert_exporter": "python",
   "pygments_lexer": "ipython3",
   "version": "3.9.13"
  }
 },
 "nbformat": 4,
 "nbformat_minor": 5
}
